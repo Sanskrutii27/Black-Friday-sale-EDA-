{
 "cells": [
  {
   "cell_type": "markdown",
   "id": "8b076165",
   "metadata": {
    "execution": {
     "iopub.execute_input": "2022-09-22T10:23:33.247199Z",
     "iopub.status.busy": "2022-09-22T10:23:33.246801Z",
     "iopub.status.idle": "2022-09-22T10:23:33.256334Z",
     "shell.execute_reply": "2022-09-22T10:23:33.254634Z",
     "shell.execute_reply.started": "2022-09-22T10:23:33.247166Z"
    },
    "papermill": {
     "duration": 0.026557,
     "end_time": "2022-10-17T11:58:39.406722",
     "exception": false,
     "start_time": "2022-10-17T11:58:39.380165",
     "status": "completed"
    },
    "tags": []
   },
   "source": [
    "# ***About dataset***\n",
    "* A retail company “ABC Private Limited” wants to understand the customer purchase behaviour (specifically, purchase amount) against various products of different categories. They have shared purchase summary of various customers for selected high volume products from last month. The data set also contains customer demographics (age, gender, marital status, citytype, stayincurrentcity), product details (productid and product category) and Total purchaseamount from last month.\n",
    "* Now, they want to build a model to predict the purchase amount of customer against various products which will help them to create personalized offer for customers against different products."
   ]
  },
  {
   "cell_type": "markdown",
   "id": "9c030589",
   "metadata": {
    "papermill": {
     "duration": 0.017563,
     "end_time": "2022-10-17T11:58:39.442702",
     "exception": false,
     "start_time": "2022-10-17T11:58:39.425139",
     "status": "completed"
    },
    "tags": []
   },
   "source": [
    "# ***Exploratory Data Analysis:***"
   ]
  },
  {
   "cell_type": "markdown",
   "id": "619ac332",
   "metadata": {
    "papermill": {
     "duration": 0.018057,
     "end_time": "2022-10-17T11:58:39.478850",
     "exception": false,
     "start_time": "2022-10-17T11:58:39.460793",
     "status": "completed"
    },
    "tags": []
   },
   "source": [
    "#### Data cleaning:\n",
    "* For data cleaning we are going to make use 2 Python libraries:-\n",
    "1. Numpy\n",
    "2. Pandas"
   ]
  },
  {
   "cell_type": "code",
   "execution_count": 1,
   "id": "56df150a",
   "metadata": {
    "_cell_guid": "b1076dfc-b9ad-4769-8c92-a6c4dae69d19",
    "_uuid": "8f2839f25d086af736a60e9eeb907d3b93b6e0e5",
    "execution": {
     "iopub.execute_input": "2022-10-17T11:58:39.528613Z",
     "iopub.status.busy": "2022-10-17T11:58:39.527725Z",
     "iopub.status.idle": "2022-10-17T11:58:40.565661Z",
     "shell.execute_reply": "2022-10-17T11:58:40.564353Z"
    },
    "papermill": {
     "duration": 1.064706,
     "end_time": "2022-10-17T11:58:40.568588",
     "exception": false,
     "start_time": "2022-10-17T11:58:39.503882",
     "status": "completed"
    },
    "tags": []
   },
   "outputs": [
    {
     "name": "stdout",
     "output_type": "stream",
     "text": [
      "/kaggle/input/black-friday-sales-eda/train.csv\n"
     ]
    }
   ],
   "source": [
    "# This Python 3 environment comes with many helpful analytics libraries installed\n",
    "# It is defined by the kaggle/python Docker image: https://github.com/kaggle/docker-python\n",
    "# For example, here's several helpful packages to load\n",
    "\n",
    "import numpy as np # linear algebra\n",
    "import pandas as pd # data processing, CSV file I/O (e.g. pd.read_csv)\n",
    "import seaborn as sns\n",
    "import matplotlib.pyplot as plt\n",
    "%matplotlib inline\n",
    "import statistics as st\n",
    "\n",
    "# Input data files are available in the read-only \"../input/\" directory\n",
    "# For example, running this (by clicking run or pressing Shift+Enter) will list all files under the input directory\n",
    "\n",
    "import os\n",
    "for dirname, _, filenames in os.walk('/kaggle/input'):\n",
    "    for filename in filenames:\n",
    "        print(os.path.join(dirname, filename))\n",
    "\n",
    "# You can write up to 20GB to the current directory (/kaggle/working/) that gets preserved as output when you create a version using \"Save & Run All\" \n",
    "# You can also write temporary files to /kaggle/temp/, but they won't be saved outside of the current session"
   ]
  },
  {
   "cell_type": "code",
   "execution_count": 2,
   "id": "61e8c7cf",
   "metadata": {
    "execution": {
     "iopub.execute_input": "2022-10-17T11:58:40.607852Z",
     "iopub.status.busy": "2022-10-17T11:58:40.607471Z",
     "iopub.status.idle": "2022-10-17T11:58:41.646867Z",
     "shell.execute_reply": "2022-10-17T11:58:41.645573Z"
    },
    "papermill": {
     "duration": 1.061756,
     "end_time": "2022-10-17T11:58:41.649333",
     "exception": false,
     "start_time": "2022-10-17T11:58:40.587577",
     "status": "completed"
    },
    "tags": []
   },
   "outputs": [
    {
     "data": {
      "text/html": [
       "<div>\n",
       "<style scoped>\n",
       "    .dataframe tbody tr th:only-of-type {\n",
       "        vertical-align: middle;\n",
       "    }\n",
       "\n",
       "    .dataframe tbody tr th {\n",
       "        vertical-align: top;\n",
       "    }\n",
       "\n",
       "    .dataframe thead th {\n",
       "        text-align: right;\n",
       "    }\n",
       "</style>\n",
       "<table border=\"1\" class=\"dataframe\">\n",
       "  <thead>\n",
       "    <tr style=\"text-align: right;\">\n",
       "      <th></th>\n",
       "      <th>User_ID</th>\n",
       "      <th>Product_ID</th>\n",
       "      <th>Gender</th>\n",
       "      <th>Age</th>\n",
       "      <th>Occupation</th>\n",
       "      <th>City_Category</th>\n",
       "      <th>Stay_In_Current_City_Years</th>\n",
       "      <th>Marital_Status</th>\n",
       "      <th>Product_Category_1</th>\n",
       "      <th>Product_Category_2</th>\n",
       "      <th>Product_Category_3</th>\n",
       "      <th>Purchase</th>\n",
       "    </tr>\n",
       "  </thead>\n",
       "  <tbody>\n",
       "    <tr>\n",
       "      <th>0</th>\n",
       "      <td>1000001</td>\n",
       "      <td>P00069042</td>\n",
       "      <td>F</td>\n",
       "      <td>0-17</td>\n",
       "      <td>10</td>\n",
       "      <td>A</td>\n",
       "      <td>2</td>\n",
       "      <td>0</td>\n",
       "      <td>3</td>\n",
       "      <td>NaN</td>\n",
       "      <td>NaN</td>\n",
       "      <td>8370</td>\n",
       "    </tr>\n",
       "    <tr>\n",
       "      <th>1</th>\n",
       "      <td>1000001</td>\n",
       "      <td>P00248942</td>\n",
       "      <td>F</td>\n",
       "      <td>0-17</td>\n",
       "      <td>10</td>\n",
       "      <td>A</td>\n",
       "      <td>2</td>\n",
       "      <td>0</td>\n",
       "      <td>1</td>\n",
       "      <td>6.0</td>\n",
       "      <td>14.0</td>\n",
       "      <td>15200</td>\n",
       "    </tr>\n",
       "    <tr>\n",
       "      <th>2</th>\n",
       "      <td>1000001</td>\n",
       "      <td>P00087842</td>\n",
       "      <td>F</td>\n",
       "      <td>0-17</td>\n",
       "      <td>10</td>\n",
       "      <td>A</td>\n",
       "      <td>2</td>\n",
       "      <td>0</td>\n",
       "      <td>12</td>\n",
       "      <td>NaN</td>\n",
       "      <td>NaN</td>\n",
       "      <td>1422</td>\n",
       "    </tr>\n",
       "    <tr>\n",
       "      <th>3</th>\n",
       "      <td>1000001</td>\n",
       "      <td>P00085442</td>\n",
       "      <td>F</td>\n",
       "      <td>0-17</td>\n",
       "      <td>10</td>\n",
       "      <td>A</td>\n",
       "      <td>2</td>\n",
       "      <td>0</td>\n",
       "      <td>12</td>\n",
       "      <td>14.0</td>\n",
       "      <td>NaN</td>\n",
       "      <td>1057</td>\n",
       "    </tr>\n",
       "  </tbody>\n",
       "</table>\n",
       "</div>"
      ],
      "text/plain": [
       "   User_ID Product_ID Gender   Age  Occupation City_Category  \\\n",
       "0  1000001  P00069042      F  0-17          10             A   \n",
       "1  1000001  P00248942      F  0-17          10             A   \n",
       "2  1000001  P00087842      F  0-17          10             A   \n",
       "3  1000001  P00085442      F  0-17          10             A   \n",
       "\n",
       "  Stay_In_Current_City_Years  Marital_Status  Product_Category_1  \\\n",
       "0                          2               0                   3   \n",
       "1                          2               0                   1   \n",
       "2                          2               0                  12   \n",
       "3                          2               0                  12   \n",
       "\n",
       "   Product_Category_2  Product_Category_3  Purchase  \n",
       "0                 NaN                 NaN      8370  \n",
       "1                 6.0                14.0     15200  \n",
       "2                 NaN                 NaN      1422  \n",
       "3                14.0                 NaN      1057  "
      ]
     },
     "execution_count": 2,
     "metadata": {},
     "output_type": "execute_result"
    }
   ],
   "source": [
    "data=pd.read_csv('/kaggle/input/black-friday-sales-eda/train.csv')\n",
    "data.head(4)"
   ]
  },
  {
   "cell_type": "code",
   "execution_count": 3,
   "id": "2f8a0f86",
   "metadata": {
    "execution": {
     "iopub.execute_input": "2022-10-17T11:58:41.688974Z",
     "iopub.status.busy": "2022-10-17T11:58:41.688251Z",
     "iopub.status.idle": "2022-10-17T11:58:41.833016Z",
     "shell.execute_reply": "2022-10-17T11:58:41.831733Z"
    },
    "papermill": {
     "duration": 0.167307,
     "end_time": "2022-10-17T11:58:41.835613",
     "exception": false,
     "start_time": "2022-10-17T11:58:41.668306",
     "status": "completed"
    },
    "tags": []
   },
   "outputs": [
    {
     "name": "stdout",
     "output_type": "stream",
     "text": [
      "<class 'pandas.core.frame.DataFrame'>\n",
      "RangeIndex: 550068 entries, 0 to 550067\n",
      "Data columns (total 12 columns):\n",
      " #   Column                      Non-Null Count   Dtype  \n",
      "---  ------                      --------------   -----  \n",
      " 0   User_ID                     550068 non-null  int64  \n",
      " 1   Product_ID                  550068 non-null  object \n",
      " 2   Gender                      550068 non-null  object \n",
      " 3   Age                         550068 non-null  object \n",
      " 4   Occupation                  550068 non-null  int64  \n",
      " 5   City_Category               550068 non-null  object \n",
      " 6   Stay_In_Current_City_Years  550068 non-null  object \n",
      " 7   Marital_Status              550068 non-null  int64  \n",
      " 8   Product_Category_1          550068 non-null  int64  \n",
      " 9   Product_Category_2          376430 non-null  float64\n",
      " 10  Product_Category_3          166821 non-null  float64\n",
      " 11  Purchase                    550068 non-null  int64  \n",
      "dtypes: float64(2), int64(5), object(5)\n",
      "memory usage: 50.4+ MB\n"
     ]
    }
   ],
   "source": [
    "#Gives the information about data set\n",
    "data.info()"
   ]
  },
  {
   "cell_type": "code",
   "execution_count": 4,
   "id": "9a352a14",
   "metadata": {
    "execution": {
     "iopub.execute_input": "2022-10-17T11:58:41.874907Z",
     "iopub.status.busy": "2022-10-17T11:58:41.874483Z",
     "iopub.status.idle": "2022-10-17T11:58:41.883199Z",
     "shell.execute_reply": "2022-10-17T11:58:41.882113Z"
    },
    "papermill": {
     "duration": 0.030916,
     "end_time": "2022-10-17T11:58:41.885214",
     "exception": false,
     "start_time": "2022-10-17T11:58:41.854298",
     "status": "completed"
    },
    "tags": []
   },
   "outputs": [
    {
     "data": {
      "text/plain": [
       "int64      5\n",
       "object     5\n",
       "float64    2\n",
       "dtype: int64"
      ]
     },
     "execution_count": 4,
     "metadata": {},
     "output_type": "execute_result"
    }
   ],
   "source": [
    "# Count of types of data type\n",
    "data.dtypes.value_counts()"
   ]
  },
  {
   "cell_type": "code",
   "execution_count": 5,
   "id": "b89802d5",
   "metadata": {
    "execution": {
     "iopub.execute_input": "2022-10-17T11:58:41.924498Z",
     "iopub.status.busy": "2022-10-17T11:58:41.923715Z",
     "iopub.status.idle": "2022-10-17T11:58:41.929946Z",
     "shell.execute_reply": "2022-10-17T11:58:41.929179Z"
    },
    "papermill": {
     "duration": 0.028119,
     "end_time": "2022-10-17T11:58:41.931951",
     "exception": false,
     "start_time": "2022-10-17T11:58:41.903832",
     "status": "completed"
    },
    "tags": []
   },
   "outputs": [
    {
     "data": {
      "text/plain": [
       "(550068, 12)"
      ]
     },
     "execution_count": 5,
     "metadata": {},
     "output_type": "execute_result"
    }
   ],
   "source": [
    "#Showabss the total number of rows and columns present in the data set\n",
    "data.shape\n",
    "#There are 550068 rows and 12 columns present in data set before cleaning."
   ]
  },
  {
   "cell_type": "code",
   "execution_count": 6,
   "id": "3c91c349",
   "metadata": {
    "execution": {
     "iopub.execute_input": "2022-10-17T11:58:41.972012Z",
     "iopub.status.busy": "2022-10-17T11:58:41.971302Z",
     "iopub.status.idle": "2022-10-17T11:58:41.977943Z",
     "shell.execute_reply": "2022-10-17T11:58:41.976836Z"
    },
    "papermill": {
     "duration": 0.029139,
     "end_time": "2022-10-17T11:58:41.980178",
     "exception": false,
     "start_time": "2022-10-17T11:58:41.951039",
     "status": "completed"
    },
    "tags": []
   },
   "outputs": [
    {
     "data": {
      "text/plain": [
       "Index(['User_ID', 'Product_ID', 'Gender', 'Age', 'Occupation', 'City_Category',\n",
       "       'Stay_In_Current_City_Years', 'Marital_Status', 'Product_Category_1',\n",
       "       'Product_Category_2', 'Product_Category_3', 'Purchase'],\n",
       "      dtype='object')"
      ]
     },
     "execution_count": 6,
     "metadata": {},
     "output_type": "execute_result"
    }
   ],
   "source": [
    "#Shows the names of columns present in the data set\n",
    "data.columns"
   ]
  },
  {
   "cell_type": "code",
   "execution_count": 7,
   "id": "3d6e817e",
   "metadata": {
    "execution": {
     "iopub.execute_input": "2022-10-17T11:58:42.020648Z",
     "iopub.status.busy": "2022-10-17T11:58:42.020227Z",
     "iopub.status.idle": "2022-10-17T11:58:42.026574Z",
     "shell.execute_reply": "2022-10-17T11:58:42.025711Z"
    },
    "papermill": {
     "duration": 0.029297,
     "end_time": "2022-10-17T11:58:42.028564",
     "exception": false,
     "start_time": "2022-10-17T11:58:41.999267",
     "status": "completed"
    },
    "tags": []
   },
   "outputs": [
    {
     "data": {
      "text/plain": [
       "RangeIndex(start=0, stop=550068, step=1)"
      ]
     },
     "execution_count": 7,
     "metadata": {},
     "output_type": "execute_result"
    }
   ],
   "source": [
    "#Shows the range of index\n",
    "data.index"
   ]
  },
  {
   "cell_type": "markdown",
   "id": "a4279b01",
   "metadata": {
    "papermill": {
     "duration": 0.018838,
     "end_time": "2022-10-17T11:58:42.066503",
     "exception": false,
     "start_time": "2022-10-17T11:58:42.047665",
     "status": "completed"
    },
    "tags": []
   },
   "source": [
    "#### NAN values in dataset:-"
   ]
  },
  {
   "cell_type": "code",
   "execution_count": 8,
   "id": "38a75fa5",
   "metadata": {
    "execution": {
     "iopub.execute_input": "2022-10-17T11:58:42.106954Z",
     "iopub.status.busy": "2022-10-17T11:58:42.106303Z",
     "iopub.status.idle": "2022-10-17T11:58:42.234093Z",
     "shell.execute_reply": "2022-10-17T11:58:42.233257Z"
    },
    "papermill": {
     "duration": 0.150546,
     "end_time": "2022-10-17T11:58:42.236204",
     "exception": false,
     "start_time": "2022-10-17T11:58:42.085658",
     "status": "completed"
    },
    "tags": []
   },
   "outputs": [
    {
     "data": {
      "text/plain": [
       "User_ID                            0\n",
       "Product_ID                         0\n",
       "Gender                             0\n",
       "Age                                0\n",
       "Occupation                         0\n",
       "City_Category                      0\n",
       "Stay_In_Current_City_Years         0\n",
       "Marital_Status                     0\n",
       "Product_Category_1                 0\n",
       "Product_Category_2            173638\n",
       "Product_Category_3            383247\n",
       "Purchase                           0\n",
       "dtype: int64"
      ]
     },
     "execution_count": 8,
     "metadata": {},
     "output_type": "execute_result"
    }
   ],
   "source": [
    "#Findind out null values in each columns\n",
    "data.isnull().sum()"
   ]
  },
  {
   "cell_type": "code",
   "execution_count": 9,
   "id": "3a076488",
   "metadata": {
    "execution": {
     "iopub.execute_input": "2022-10-17T11:58:42.276795Z",
     "iopub.status.busy": "2022-10-17T11:58:42.276106Z",
     "iopub.status.idle": "2022-10-17T11:58:48.750694Z",
     "shell.execute_reply": "2022-10-17T11:58:48.749863Z"
    },
    "papermill": {
     "duration": 6.497224,
     "end_time": "2022-10-17T11:58:48.752743",
     "exception": false,
     "start_time": "2022-10-17T11:58:42.255519",
     "status": "completed"
    },
    "tags": []
   },
   "outputs": [
    {
     "data": {
      "image/png": "[encoded data removed]",
      "text/plain": [
       "<Figure size 432x288 with 2 Axes>"
      ]
     },
     "metadata": {
      "needs_background": "light"
     },
     "output_type": "display_data"
    }
   ],
   "source": [
    "sns.heatmap(data.isnull())\n",
    "plt.show()"
   ]
  },
  {
   "cell_type": "markdown",
   "id": "26b4c27e",
   "metadata": {
    "papermill": {
     "duration": 0.019928,
     "end_time": "2022-10-17T11:58:48.792481",
     "exception": false,
     "start_time": "2022-10-17T11:58:48.772553",
     "status": "completed"
    },
    "tags": []
   },
   "source": [
    "Heatmap shows that null values are present in columns:\n",
    "1. Product_Category_2\n",
    "2. Product_Category_3"
   ]
  },
  {
   "cell_type": "code",
   "execution_count": 10,
   "id": "85350113",
   "metadata": {
    "execution": {
     "iopub.execute_input": "2022-10-17T11:58:48.834216Z",
     "iopub.status.busy": "2022-10-17T11:58:48.833538Z",
     "iopub.status.idle": "2022-10-17T11:58:48.959301Z",
     "shell.execute_reply": "2022-10-17T11:58:48.958479Z"
    },
    "papermill": {
     "duration": 0.149051,
     "end_time": "2022-10-17T11:58:48.961360",
     "exception": false,
     "start_time": "2022-10-17T11:58:48.812309",
     "status": "completed"
    },
    "tags": []
   },
   "outputs": [
    {
     "data": {
      "text/plain": [
       "556885"
      ]
     },
     "execution_count": 10,
     "metadata": {},
     "output_type": "execute_result"
    }
   ],
   "source": [
    "#Findind out null values in total dataset\n",
    "data.isnull().sum().sum()"
   ]
  },
  {
   "cell_type": "markdown",
   "id": "e8ff7053",
   "metadata": {
    "papermill": {
     "duration": 0.0196,
     "end_time": "2022-10-17T11:58:49.000848",
     "exception": false,
     "start_time": "2022-10-17T11:58:48.981248",
     "status": "completed"
    },
    "tags": []
   },
   "source": [
    "#### Duplicates in dataset:-"
   ]
  },
  {
   "cell_type": "code",
   "execution_count": 11,
   "id": "ebe708a4",
   "metadata": {
    "execution": {
     "iopub.execute_input": "2022-10-17T11:58:49.043081Z",
     "iopub.status.busy": "2022-10-17T11:58:49.042289Z",
     "iopub.status.idle": "2022-10-17T11:58:49.412307Z",
     "shell.execute_reply": "2022-10-17T11:58:49.411325Z"
    },
    "papermill": {
     "duration": 0.393811,
     "end_time": "2022-10-17T11:58:49.414642",
     "exception": false,
     "start_time": "2022-10-17T11:58:49.020831",
     "status": "completed"
    },
    "tags": []
   },
   "outputs": [
    {
     "data": {
      "text/plain": [
       "0"
      ]
     },
     "execution_count": 11,
     "metadata": {},
     "output_type": "execute_result"
    }
   ],
   "source": [
    "#Checking for duplicates\n",
    "data.duplicated().sum()"
   ]
  },
  {
   "cell_type": "markdown",
   "id": "035d661c",
   "metadata": {
    "papermill": {
     "duration": 0.019581,
     "end_time": "2022-10-17T11:58:49.454249",
     "exception": false,
     "start_time": "2022-10-17T11:58:49.434668",
     "status": "completed"
    },
    "tags": []
   },
   "source": [
    "#### Renaming the columns:-\n",
    "* Changing the names of the columns for better understanding.\n"
   ]
  },
  {
   "cell_type": "code",
   "execution_count": 12,
   "id": "918d9c65",
   "metadata": {
    "execution": {
     "iopub.execute_input": "2022-10-17T11:58:49.495736Z",
     "iopub.status.busy": "2022-10-17T11:58:49.495335Z",
     "iopub.status.idle": "2022-10-17T11:58:49.512797Z",
     "shell.execute_reply": "2022-10-17T11:58:49.511794Z"
    },
    "papermill": {
     "duration": 0.040598,
     "end_time": "2022-10-17T11:58:49.514870",
     "exception": false,
     "start_time": "2022-10-17T11:58:49.474272",
     "status": "completed"
    },
    "tags": []
   },
   "outputs": [
    {
     "data": {
      "text/html": [
       "<div>\n",
       "<style scoped>\n",
       "    .dataframe tbody tr th:only-of-type {\n",
       "        vertical-align: middle;\n",
       "    }\n",
       "\n",
       "    .dataframe tbody tr th {\n",
       "        vertical-align: top;\n",
       "    }\n",
       "\n",
       "    .dataframe thead th {\n",
       "        text-align: right;\n",
       "    }\n",
       "</style>\n",
       "<table border=\"1\" class=\"dataframe\">\n",
       "  <thead>\n",
       "    <tr style=\"text-align: right;\">\n",
       "      <th></th>\n",
       "      <th>UserID</th>\n",
       "      <th>ProductID</th>\n",
       "      <th>Gender</th>\n",
       "      <th>Age</th>\n",
       "      <th>Occupation</th>\n",
       "      <th>City_Category</th>\n",
       "      <th>city</th>\n",
       "      <th>maritial</th>\n",
       "      <th>product1</th>\n",
       "      <th>product2</th>\n",
       "      <th>product3</th>\n",
       "      <th>Purchase</th>\n",
       "    </tr>\n",
       "  </thead>\n",
       "  <tbody>\n",
       "    <tr>\n",
       "      <th>0</th>\n",
       "      <td>1000001</td>\n",
       "      <td>P00069042</td>\n",
       "      <td>F</td>\n",
       "      <td>0-17</td>\n",
       "      <td>10</td>\n",
       "      <td>A</td>\n",
       "      <td>2</td>\n",
       "      <td>0</td>\n",
       "      <td>3</td>\n",
       "      <td>NaN</td>\n",
       "      <td>NaN</td>\n",
       "      <td>8370</td>\n",
       "    </tr>\n",
       "    <tr>\n",
       "      <th>1</th>\n",
       "      <td>1000001</td>\n",
       "      <td>P00248942</td>\n",
       "      <td>F</td>\n",
       "      <td>0-17</td>\n",
       "      <td>10</td>\n",
       "      <td>A</td>\n",
       "      <td>2</td>\n",
       "      <td>0</td>\n",
       "      <td>1</td>\n",
       "      <td>6.0</td>\n",
       "      <td>14.0</td>\n",
       "      <td>15200</td>\n",
       "    </tr>\n",
       "    <tr>\n",
       "      <th>2</th>\n",
       "      <td>1000001</td>\n",
       "      <td>P00087842</td>\n",
       "      <td>F</td>\n",
       "      <td>0-17</td>\n",
       "      <td>10</td>\n",
       "      <td>A</td>\n",
       "      <td>2</td>\n",
       "      <td>0</td>\n",
       "      <td>12</td>\n",
       "      <td>NaN</td>\n",
       "      <td>NaN</td>\n",
       "      <td>1422</td>\n",
       "    </tr>\n",
       "  </tbody>\n",
       "</table>\n",
       "</div>"
      ],
      "text/plain": [
       "    UserID  ProductID Gender   Age  Occupation City_Category city  maritial  \\\n",
       "0  1000001  P00069042      F  0-17          10             A    2         0   \n",
       "1  1000001  P00248942      F  0-17          10             A    2         0   \n",
       "2  1000001  P00087842      F  0-17          10             A    2         0   \n",
       "\n",
       "   product1  product2  product3  Purchase  \n",
       "0         3       NaN       NaN      8370  \n",
       "1         1       6.0      14.0     15200  \n",
       "2        12       NaN       NaN      1422  "
      ]
     },
     "execution_count": 12,
     "metadata": {},
     "output_type": "execute_result"
    }
   ],
   "source": [
    "data.rename(columns={'User_ID':'UserID','Product_ID':'ProductID','Product_Category_1':'product1','Product_Category_2':'product2','Product_Category_3':'product3','Marital_Status':'maritial','Stay_In_Current_City_Years':'city'},inplace=True)\n",
    "data.head(3)"
   ]
  },
  {
   "cell_type": "markdown",
   "id": "dc04a943",
   "metadata": {
    "papermill": {
     "duration": 0.019806,
     "end_time": "2022-10-17T11:58:49.554626",
     "exception": false,
     "start_time": "2022-10-17T11:58:49.534820",
     "status": "completed"
    },
    "tags": []
   },
   "source": [
    "### Droping out unnecessary columns:-\n",
    "* Here we are going to drop product 3 coloumn so the visualization and cleaning becomes easy."
   ]
  },
  {
   "cell_type": "code",
   "execution_count": 13,
   "id": "39718aa5",
   "metadata": {
    "execution": {
     "iopub.execute_input": "2022-10-17T11:58:49.596523Z",
     "iopub.status.busy": "2022-10-17T11:58:49.596107Z",
     "iopub.status.idle": "2022-10-17T11:58:49.626205Z",
     "shell.execute_reply": "2022-10-17T11:58:49.625068Z"
    },
    "papermill": {
     "duration": 0.054058,
     "end_time": "2022-10-17T11:58:49.628645",
     "exception": false,
     "start_time": "2022-10-17T11:58:49.574587",
     "status": "completed"
    },
    "tags": []
   },
   "outputs": [],
   "source": [
    "data.drop(['ProductID'],inplace=True,axis='columns')"
   ]
  },
  {
   "cell_type": "code",
   "execution_count": 14,
   "id": "887228ec",
   "metadata": {
    "execution": {
     "iopub.execute_input": "2022-10-17T11:58:49.670597Z",
     "iopub.status.busy": "2022-10-17T11:58:49.670160Z",
     "iopub.status.idle": "2022-10-17T11:58:49.685273Z",
     "shell.execute_reply": "2022-10-17T11:58:49.684442Z"
    },
    "papermill": {
     "duration": 0.038293,
     "end_time": "2022-10-17T11:58:49.687250",
     "exception": false,
     "start_time": "2022-10-17T11:58:49.648957",
     "status": "completed"
    },
    "tags": []
   },
   "outputs": [
    {
     "data": {
      "text/html": [
       "<div>\n",
       "<style scoped>\n",
       "    .dataframe tbody tr th:only-of-type {\n",
       "        vertical-align: middle;\n",
       "    }\n",
       "\n",
       "    .dataframe tbody tr th {\n",
       "        vertical-align: top;\n",
       "    }\n",
       "\n",
       "    .dataframe thead th {\n",
       "        text-align: right;\n",
       "    }\n",
       "</style>\n",
       "<table border=\"1\" class=\"dataframe\">\n",
       "  <thead>\n",
       "    <tr style=\"text-align: right;\">\n",
       "      <th></th>\n",
       "      <th>UserID</th>\n",
       "      <th>Gender</th>\n",
       "      <th>Age</th>\n",
       "      <th>Occupation</th>\n",
       "      <th>City_Category</th>\n",
       "      <th>city</th>\n",
       "      <th>maritial</th>\n",
       "      <th>product1</th>\n",
       "      <th>product2</th>\n",
       "      <th>product3</th>\n",
       "      <th>Purchase</th>\n",
       "    </tr>\n",
       "  </thead>\n",
       "  <tbody>\n",
       "    <tr>\n",
       "      <th>0</th>\n",
       "      <td>1000001</td>\n",
       "      <td>F</td>\n",
       "      <td>0-17</td>\n",
       "      <td>10</td>\n",
       "      <td>A</td>\n",
       "      <td>2</td>\n",
       "      <td>0</td>\n",
       "      <td>3</td>\n",
       "      <td>NaN</td>\n",
       "      <td>NaN</td>\n",
       "      <td>8370</td>\n",
       "    </tr>\n",
       "    <tr>\n",
       "      <th>1</th>\n",
       "      <td>1000001</td>\n",
       "      <td>F</td>\n",
       "      <td>0-17</td>\n",
       "      <td>10</td>\n",
       "      <td>A</td>\n",
       "      <td>2</td>\n",
       "      <td>0</td>\n",
       "      <td>1</td>\n",
       "      <td>6.0</td>\n",
       "      <td>14.0</td>\n",
       "      <td>15200</td>\n",
       "    </tr>\n",
       "    <tr>\n",
       "      <th>2</th>\n",
       "      <td>1000001</td>\n",
       "      <td>F</td>\n",
       "      <td>0-17</td>\n",
       "      <td>10</td>\n",
       "      <td>A</td>\n",
       "      <td>2</td>\n",
       "      <td>0</td>\n",
       "      <td>12</td>\n",
       "      <td>NaN</td>\n",
       "      <td>NaN</td>\n",
       "      <td>1422</td>\n",
       "    </tr>\n",
       "  </tbody>\n",
       "</table>\n",
       "</div>"
      ],
      "text/plain": [
       "    UserID Gender   Age  Occupation City_Category city  maritial  product1  \\\n",
       "0  1000001      F  0-17          10             A    2         0         3   \n",
       "1  1000001      F  0-17          10             A    2         0         1   \n",
       "2  1000001      F  0-17          10             A    2         0        12   \n",
       "\n",
       "   product2  product3  Purchase  \n",
       "0       NaN       NaN      8370  \n",
       "1       6.0      14.0     15200  \n",
       "2       NaN       NaN      1422  "
      ]
     },
     "execution_count": 14,
     "metadata": {},
     "output_type": "execute_result"
    }
   ],
   "source": [
    "data.head(3)"
   ]
  },
  {
   "cell_type": "markdown",
   "id": "7b725d71",
   "metadata": {
    "papermill": {
     "duration": 0.019931,
     "end_time": "2022-10-17T11:58:49.727845",
     "exception": false,
     "start_time": "2022-10-17T11:58:49.707914",
     "status": "completed"
    },
    "tags": []
   },
   "source": [
    "### ***Cleaning individual columns:-***"
   ]
  },
  {
   "cell_type": "markdown",
   "id": "d8f2f73f",
   "metadata": {
    "papermill": {
     "duration": 0.019846,
     "end_time": "2022-10-17T11:58:49.767784",
     "exception": false,
     "start_time": "2022-10-17T11:58:49.747938",
     "status": "completed"
    },
    "tags": []
   },
   "source": [
    "#### Column:city"
   ]
  },
  {
   "cell_type": "code",
   "execution_count": 15,
   "id": "2e0fa14a",
   "metadata": {
    "execution": {
     "iopub.execute_input": "2022-10-17T11:58:49.809994Z",
     "iopub.status.busy": "2022-10-17T11:58:49.809605Z",
     "iopub.status.idle": "2022-10-17T11:58:49.849977Z",
     "shell.execute_reply": "2022-10-17T11:58:49.848813Z"
    },
    "papermill": {
     "duration": 0.064429,
     "end_time": "2022-10-17T11:58:49.852299",
     "exception": false,
     "start_time": "2022-10-17T11:58:49.787870",
     "status": "completed"
    },
    "tags": []
   },
   "outputs": [
    {
     "data": {
      "text/plain": [
       "array(['2', '4+', '3', '1', '0'], dtype=object)"
      ]
     },
     "execution_count": 15,
     "metadata": {},
     "output_type": "execute_result"
    }
   ],
   "source": [
    "data['city'].unique()"
   ]
  },
  {
   "cell_type": "code",
   "execution_count": 16,
   "id": "17bdf5af",
   "metadata": {
    "execution": {
     "iopub.execute_input": "2022-10-17T11:58:49.894713Z",
     "iopub.status.busy": "2022-10-17T11:58:49.894334Z",
     "iopub.status.idle": "2022-10-17T11:58:50.229136Z",
     "shell.execute_reply": "2022-10-17T11:58:50.228169Z"
    },
    "papermill": {
     "duration": 0.359052,
     "end_time": "2022-10-17T11:58:50.231762",
     "exception": false,
     "start_time": "2022-10-17T11:58:49.872710",
     "status": "completed"
    },
    "tags": []
   },
   "outputs": [],
   "source": [
    "def cities(value):\n",
    "    if '+' in value:\n",
    "        value=value.replace('+','')\n",
    "        return int(value)\n",
    "    else:\n",
    "        return int(value)\n",
    "\n",
    "data['city']=data['city'].apply(cities)"
   ]
  },
  {
   "cell_type": "code",
   "execution_count": 17,
   "id": "e436fcfe",
   "metadata": {
    "execution": {
     "iopub.execute_input": "2022-10-17T11:58:50.276559Z",
     "iopub.status.busy": "2022-10-17T11:58:50.276160Z",
     "iopub.status.idle": "2022-10-17T11:58:50.288016Z",
     "shell.execute_reply": "2022-10-17T11:58:50.287049Z"
    },
    "papermill": {
     "duration": 0.036702,
     "end_time": "2022-10-17T11:58:50.290156",
     "exception": false,
     "start_time": "2022-10-17T11:58:50.253454",
     "status": "completed"
    },
    "tags": []
   },
   "outputs": [
    {
     "data": {
      "text/plain": [
       "array([2, 4, 3, 1, 0])"
      ]
     },
     "execution_count": 17,
     "metadata": {},
     "output_type": "execute_result"
    }
   ],
   "source": [
    "data['city'].unique()"
   ]
  },
  {
   "cell_type": "code",
   "execution_count": 18,
   "id": "2369953f",
   "metadata": {
    "execution": {
     "iopub.execute_input": "2022-10-17T11:58:50.332657Z",
     "iopub.status.busy": "2022-10-17T11:58:50.331989Z",
     "iopub.status.idle": "2022-10-17T11:58:50.422503Z",
     "shell.execute_reply": "2022-10-17T11:58:50.421254Z"
    },
    "papermill": {
     "duration": 0.114697,
     "end_time": "2022-10-17T11:58:50.425273",
     "exception": false,
     "start_time": "2022-10-17T11:58:50.310576",
     "status": "completed"
    },
    "tags": []
   },
   "outputs": [
    {
     "name": "stdout",
     "output_type": "stream",
     "text": [
      "<class 'pandas.core.frame.DataFrame'>\n",
      "RangeIndex: 550068 entries, 0 to 550067\n",
      "Data columns (total 11 columns):\n",
      " #   Column         Non-Null Count   Dtype  \n",
      "---  ------         --------------   -----  \n",
      " 0   UserID         550068 non-null  int64  \n",
      " 1   Gender         550068 non-null  object \n",
      " 2   Age            550068 non-null  object \n",
      " 3   Occupation     550068 non-null  int64  \n",
      " 4   City_Category  550068 non-null  object \n",
      " 5   city           550068 non-null  int64  \n",
      " 6   maritial       550068 non-null  int64  \n",
      " 7   product1       550068 non-null  int64  \n",
      " 8   product2       376430 non-null  float64\n",
      " 9   product3       166821 non-null  float64\n",
      " 10  Purchase       550068 non-null  int64  \n",
      "dtypes: float64(2), int64(6), object(3)\n",
      "memory usage: 46.2+ MB\n"
     ]
    }
   ],
   "source": [
    "data.info()"
   ]
  },
  {
   "cell_type": "markdown",
   "id": "253f16ba",
   "metadata": {
    "papermill": {
     "duration": 0.020134,
     "end_time": "2022-10-17T11:58:50.466727",
     "exception": false,
     "start_time": "2022-10-17T11:58:50.446593",
     "status": "completed"
    },
    "tags": []
   },
   "source": [
    "#### Column:UserID"
   ]
  },
  {
   "cell_type": "code",
   "execution_count": 19,
   "id": "54442d28",
   "metadata": {
    "execution": {
     "iopub.execute_input": "2022-10-17T11:58:50.509381Z",
     "iopub.status.busy": "2022-10-17T11:58:50.508986Z",
     "iopub.status.idle": "2022-10-17T11:58:50.520258Z",
     "shell.execute_reply": "2022-10-17T11:58:50.519149Z"
    },
    "papermill": {
     "duration": 0.035107,
     "end_time": "2022-10-17T11:58:50.522399",
     "exception": false,
     "start_time": "2022-10-17T11:58:50.487292",
     "status": "completed"
    },
    "tags": []
   },
   "outputs": [
    {
     "data": {
      "text/plain": [
       "array([1000001, 1000002, 1000003, ..., 1004113, 1005391, 1001529])"
      ]
     },
     "execution_count": 19,
     "metadata": {},
     "output_type": "execute_result"
    }
   ],
   "source": [
    "data['UserID'].unique()"
   ]
  },
  {
   "cell_type": "code",
   "execution_count": 20,
   "id": "c23dfb5d",
   "metadata": {
    "execution": {
     "iopub.execute_input": "2022-10-17T11:58:50.565047Z",
     "iopub.status.busy": "2022-10-17T11:58:50.564607Z",
     "iopub.status.idle": "2022-10-17T11:58:50.570709Z",
     "shell.execute_reply": "2022-10-17T11:58:50.569947Z"
    },
    "papermill": {
     "duration": 0.029688,
     "end_time": "2022-10-17T11:58:50.572639",
     "exception": false,
     "start_time": "2022-10-17T11:58:50.542951",
     "status": "completed"
    },
    "tags": []
   },
   "outputs": [
    {
     "data": {
      "text/plain": [
       "dtype('int64')"
      ]
     },
     "execution_count": 20,
     "metadata": {},
     "output_type": "execute_result"
    }
   ],
   "source": [
    "data['UserID'].dtype"
   ]
  },
  {
   "cell_type": "markdown",
   "id": "14623888",
   "metadata": {
    "papermill": {
     "duration": 0.020376,
     "end_time": "2022-10-17T11:58:50.613664",
     "exception": false,
     "start_time": "2022-10-17T11:58:50.593288",
     "status": "completed"
    },
    "tags": []
   },
   "source": [
    "#### Column:Gender"
   ]
  },
  {
   "cell_type": "code",
   "execution_count": 21,
   "id": "c9df8f7b",
   "metadata": {
    "execution": {
     "iopub.execute_input": "2022-10-17T11:58:50.656751Z",
     "iopub.status.busy": "2022-10-17T11:58:50.656367Z",
     "iopub.status.idle": "2022-10-17T11:58:50.696231Z",
     "shell.execute_reply": "2022-10-17T11:58:50.695337Z"
    },
    "papermill": {
     "duration": 0.064018,
     "end_time": "2022-10-17T11:58:50.698404",
     "exception": false,
     "start_time": "2022-10-17T11:58:50.634386",
     "status": "completed"
    },
    "tags": []
   },
   "outputs": [
    {
     "data": {
      "text/plain": [
       "array(['F', 'M'], dtype=object)"
      ]
     },
     "execution_count": 21,
     "metadata": {},
     "output_type": "execute_result"
    }
   ],
   "source": [
    "data['Gender'].unique()"
   ]
  },
  {
   "cell_type": "code",
   "execution_count": 22,
   "id": "39765eb9",
   "metadata": {
    "execution": {
     "iopub.execute_input": "2022-10-17T11:58:50.743259Z",
     "iopub.status.busy": "2022-10-17T11:58:50.742126Z",
     "iopub.status.idle": "2022-10-17T11:58:50.758504Z",
     "shell.execute_reply": "2022-10-17T11:58:50.757452Z"
    },
    "papermill": {
     "duration": 0.04091,
     "end_time": "2022-10-17T11:58:50.760841",
     "exception": false,
     "start_time": "2022-10-17T11:58:50.719931",
     "status": "completed"
    },
    "tags": []
   },
   "outputs": [
    {
     "data": {
      "text/html": [
       "<div>\n",
       "<style scoped>\n",
       "    .dataframe tbody tr th:only-of-type {\n",
       "        vertical-align: middle;\n",
       "    }\n",
       "\n",
       "    .dataframe tbody tr th {\n",
       "        vertical-align: top;\n",
       "    }\n",
       "\n",
       "    .dataframe thead th {\n",
       "        text-align: right;\n",
       "    }\n",
       "</style>\n",
       "<table border=\"1\" class=\"dataframe\">\n",
       "  <thead>\n",
       "    <tr style=\"text-align: right;\">\n",
       "      <th></th>\n",
       "      <th>UserID</th>\n",
       "      <th>Gender</th>\n",
       "      <th>Age</th>\n",
       "      <th>Occupation</th>\n",
       "      <th>City_Category</th>\n",
       "      <th>city</th>\n",
       "      <th>maritial</th>\n",
       "      <th>product1</th>\n",
       "      <th>product2</th>\n",
       "      <th>product3</th>\n",
       "      <th>Purchase</th>\n",
       "    </tr>\n",
       "  </thead>\n",
       "  <tbody>\n",
       "    <tr>\n",
       "      <th>0</th>\n",
       "      <td>1000001</td>\n",
       "      <td>F</td>\n",
       "      <td>0-17</td>\n",
       "      <td>10</td>\n",
       "      <td>A</td>\n",
       "      <td>2</td>\n",
       "      <td>0</td>\n",
       "      <td>3</td>\n",
       "      <td>NaN</td>\n",
       "      <td>NaN</td>\n",
       "      <td>8370</td>\n",
       "    </tr>\n",
       "    <tr>\n",
       "      <th>1</th>\n",
       "      <td>1000001</td>\n",
       "      <td>F</td>\n",
       "      <td>0-17</td>\n",
       "      <td>10</td>\n",
       "      <td>A</td>\n",
       "      <td>2</td>\n",
       "      <td>0</td>\n",
       "      <td>1</td>\n",
       "      <td>6.0</td>\n",
       "      <td>14.0</td>\n",
       "      <td>15200</td>\n",
       "    </tr>\n",
       "    <tr>\n",
       "      <th>2</th>\n",
       "      <td>1000001</td>\n",
       "      <td>F</td>\n",
       "      <td>0-17</td>\n",
       "      <td>10</td>\n",
       "      <td>A</td>\n",
       "      <td>2</td>\n",
       "      <td>0</td>\n",
       "      <td>12</td>\n",
       "      <td>NaN</td>\n",
       "      <td>NaN</td>\n",
       "      <td>1422</td>\n",
       "    </tr>\n",
       "    <tr>\n",
       "      <th>3</th>\n",
       "      <td>1000001</td>\n",
       "      <td>F</td>\n",
       "      <td>0-17</td>\n",
       "      <td>10</td>\n",
       "      <td>A</td>\n",
       "      <td>2</td>\n",
       "      <td>0</td>\n",
       "      <td>12</td>\n",
       "      <td>14.0</td>\n",
       "      <td>NaN</td>\n",
       "      <td>1057</td>\n",
       "    </tr>\n",
       "    <tr>\n",
       "      <th>4</th>\n",
       "      <td>1000002</td>\n",
       "      <td>M</td>\n",
       "      <td>55+</td>\n",
       "      <td>16</td>\n",
       "      <td>C</td>\n",
       "      <td>4</td>\n",
       "      <td>0</td>\n",
       "      <td>8</td>\n",
       "      <td>NaN</td>\n",
       "      <td>NaN</td>\n",
       "      <td>7969</td>\n",
       "    </tr>\n",
       "  </tbody>\n",
       "</table>\n",
       "</div>"
      ],
      "text/plain": [
       "    UserID Gender   Age  Occupation City_Category  city  maritial  product1  \\\n",
       "0  1000001      F  0-17          10             A     2         0         3   \n",
       "1  1000001      F  0-17          10             A     2         0         1   \n",
       "2  1000001      F  0-17          10             A     2         0        12   \n",
       "3  1000001      F  0-17          10             A     2         0        12   \n",
       "4  1000002      M   55+          16             C     4         0         8   \n",
       "\n",
       "   product2  product3  Purchase  \n",
       "0       NaN       NaN      8370  \n",
       "1       6.0      14.0     15200  \n",
       "2       NaN       NaN      1422  \n",
       "3      14.0       NaN      1057  \n",
       "4       NaN       NaN      7969  "
      ]
     },
     "execution_count": 22,
     "metadata": {},
     "output_type": "execute_result"
    }
   ],
   "source": [
    "data.head()"
   ]
  },
  {
   "cell_type": "code",
   "execution_count": 23,
   "id": "892ca30e",
   "metadata": {
    "execution": {
     "iopub.execute_input": "2022-10-17T11:58:50.804856Z",
     "iopub.status.busy": "2022-10-17T11:58:50.804487Z",
     "iopub.status.idle": "2022-10-17T11:58:50.892399Z",
     "shell.execute_reply": "2022-10-17T11:58:50.890676Z"
    },
    "papermill": {
     "duration": 0.113574,
     "end_time": "2022-10-17T11:58:50.895601",
     "exception": false,
     "start_time": "2022-10-17T11:58:50.782027",
     "status": "completed"
    },
    "tags": []
   },
   "outputs": [
    {
     "name": "stdout",
     "output_type": "stream",
     "text": [
      "<class 'pandas.core.frame.DataFrame'>\n",
      "RangeIndex: 550068 entries, 0 to 550067\n",
      "Data columns (total 11 columns):\n",
      " #   Column         Non-Null Count   Dtype  \n",
      "---  ------         --------------   -----  \n",
      " 0   UserID         550068 non-null  int64  \n",
      " 1   Gender         550068 non-null  object \n",
      " 2   Age            550068 non-null  object \n",
      " 3   Occupation     550068 non-null  int64  \n",
      " 4   City_Category  550068 non-null  object \n",
      " 5   city           550068 non-null  int64  \n",
      " 6   maritial       550068 non-null  int64  \n",
      " 7   product1       550068 non-null  int64  \n",
      " 8   product2       376430 non-null  float64\n",
      " 9   product3       166821 non-null  float64\n",
      " 10  Purchase       550068 non-null  int64  \n",
      "dtypes: float64(2), int64(6), object(3)\n",
      "memory usage: 46.2+ MB\n"
     ]
    }
   ],
   "source": [
    "data.info()"
   ]
  },
  {
   "cell_type": "markdown",
   "id": "f6e5a599",
   "metadata": {
    "papermill": {
     "duration": 0.020748,
     "end_time": "2022-10-17T11:58:50.937681",
     "exception": false,
     "start_time": "2022-10-17T11:58:50.916933",
     "status": "completed"
    },
    "tags": []
   },
   "source": [
    "#### Column:Age"
   ]
  },
  {
   "cell_type": "code",
   "execution_count": 24,
   "id": "e007768e",
   "metadata": {
    "execution": {
     "iopub.execute_input": "2022-10-17T11:58:50.981293Z",
     "iopub.status.busy": "2022-10-17T11:58:50.980902Z",
     "iopub.status.idle": "2022-10-17T11:58:51.024131Z",
     "shell.execute_reply": "2022-10-17T11:58:51.022936Z"
    },
    "papermill": {
     "duration": 0.067859,
     "end_time": "2022-10-17T11:58:51.026490",
     "exception": false,
     "start_time": "2022-10-17T11:58:50.958631",
     "status": "completed"
    },
    "tags": []
   },
   "outputs": [
    {
     "data": {
      "text/plain": [
       "array(['0-17', '55+', '26-35', '46-50', '51-55', '36-45', '18-25'],\n",
       "      dtype=object)"
      ]
     },
     "execution_count": 24,
     "metadata": {},
     "output_type": "execute_result"
    }
   ],
   "source": [
    "data['Age'].unique()"
   ]
  },
  {
   "cell_type": "code",
   "execution_count": 25,
   "id": "1c4b0a5d",
   "metadata": {
    "execution": {
     "iopub.execute_input": "2022-10-17T11:58:51.071318Z",
     "iopub.status.busy": "2022-10-17T11:58:51.070538Z",
     "iopub.status.idle": "2022-10-17T11:58:51.406253Z",
     "shell.execute_reply": "2022-10-17T11:58:51.405280Z"
    },
    "papermill": {
     "duration": 0.36079,
     "end_time": "2022-10-17T11:58:51.408904",
     "exception": false,
     "start_time": "2022-10-17T11:58:51.048114",
     "status": "completed"
    },
    "tags": []
   },
   "outputs": [],
   "source": [
    "def ages(value):\n",
    "    if '0-17' in value:\n",
    "        value=value.replace('0-17','child')\n",
    "        return str(value)\n",
    "    elif '26-35'in value:\n",
    "        value=value.replace('26-35','adult')\n",
    "        return str(value)\n",
    "    elif '18-25'in value:\n",
    "        value=value.replace('18-25','teenage')\n",
    "        return str(value)\n",
    "    elif '36-45'in value:\n",
    "        value=value.replace('36-45','adult')\n",
    "        return str(value)\n",
    "    elif '46-50'in value:\n",
    "        value=value.replace('46-50','adult')\n",
    "        return str(value)\n",
    "    elif '51-55'in value:\n",
    "        value=value.replace('51-55','old')\n",
    "        return str(value)\n",
    "    else:\n",
    "        value=value.replace('55+','old')\n",
    "        return str(value)\n",
    "data['Age']=data['Age'].apply(ages)"
   ]
  },
  {
   "cell_type": "markdown",
   "id": "5ee563fe",
   "metadata": {
    "papermill": {
     "duration": 0.020794,
     "end_time": "2022-10-17T11:58:51.450957",
     "exception": false,
     "start_time": "2022-10-17T11:58:51.430163",
     "status": "completed"
    },
    "tags": []
   },
   "source": [
    "* Over here we have replaced the age groups according to the categories.\n",
    "* We have replaced numerical data into categorical data.\n",
    "* The types of categories are: child,adult,teenage and old.\n",
    "1. 0-17 -> child\n",
    "2. 18-25 -> teenage\n",
    "3. 26-35 -> adult\n",
    "4. 36-45 -> adult\n",
    "5. 46-50 -> adult\n",
    "6. 51-55 -> old\n",
    "7. 55+ -> old"
   ]
  },
  {
   "cell_type": "code",
   "execution_count": 26,
   "id": "6bb2736d",
   "metadata": {
    "execution": {
     "iopub.execute_input": "2022-10-17T11:58:51.495199Z",
     "iopub.status.busy": "2022-10-17T11:58:51.494437Z",
     "iopub.status.idle": "2022-10-17T11:58:51.538865Z",
     "shell.execute_reply": "2022-10-17T11:58:51.537776Z"
    },
    "papermill": {
     "duration": 0.06928,
     "end_time": "2022-10-17T11:58:51.541346",
     "exception": false,
     "start_time": "2022-10-17T11:58:51.472066",
     "status": "completed"
    },
    "tags": []
   },
   "outputs": [
    {
     "data": {
      "text/plain": [
       "array(['child', 'old', 'adult', 'teenage'], dtype=object)"
      ]
     },
     "execution_count": 26,
     "metadata": {},
     "output_type": "execute_result"
    }
   ],
   "source": [
    "data['Age'].unique()"
   ]
  },
  {
   "cell_type": "code",
   "execution_count": 27,
   "id": "9c5dc59a",
   "metadata": {
    "execution": {
     "iopub.execute_input": "2022-10-17T11:58:51.586569Z",
     "iopub.status.busy": "2022-10-17T11:58:51.585525Z",
     "iopub.status.idle": "2022-10-17T11:58:51.601677Z",
     "shell.execute_reply": "2022-10-17T11:58:51.600569Z"
    },
    "papermill": {
     "duration": 0.040825,
     "end_time": "2022-10-17T11:58:51.603734",
     "exception": false,
     "start_time": "2022-10-17T11:58:51.562909",
     "status": "completed"
    },
    "tags": []
   },
   "outputs": [
    {
     "data": {
      "text/html": [
       "<div>\n",
       "<style scoped>\n",
       "    .dataframe tbody tr th:only-of-type {\n",
       "        vertical-align: middle;\n",
       "    }\n",
       "\n",
       "    .dataframe tbody tr th {\n",
       "        vertical-align: top;\n",
       "    }\n",
       "\n",
       "    .dataframe thead th {\n",
       "        text-align: right;\n",
       "    }\n",
       "</style>\n",
       "<table border=\"1\" class=\"dataframe\">\n",
       "  <thead>\n",
       "    <tr style=\"text-align: right;\">\n",
       "      <th></th>\n",
       "      <th>UserID</th>\n",
       "      <th>Gender</th>\n",
       "      <th>Age</th>\n",
       "      <th>Occupation</th>\n",
       "      <th>City_Category</th>\n",
       "      <th>city</th>\n",
       "      <th>maritial</th>\n",
       "      <th>product1</th>\n",
       "      <th>product2</th>\n",
       "      <th>product3</th>\n",
       "      <th>Purchase</th>\n",
       "    </tr>\n",
       "  </thead>\n",
       "  <tbody>\n",
       "    <tr>\n",
       "      <th>0</th>\n",
       "      <td>1000001</td>\n",
       "      <td>F</td>\n",
       "      <td>child</td>\n",
       "      <td>10</td>\n",
       "      <td>A</td>\n",
       "      <td>2</td>\n",
       "      <td>0</td>\n",
       "      <td>3</td>\n",
       "      <td>NaN</td>\n",
       "      <td>NaN</td>\n",
       "      <td>8370</td>\n",
       "    </tr>\n",
       "    <tr>\n",
       "      <th>1</th>\n",
       "      <td>1000001</td>\n",
       "      <td>F</td>\n",
       "      <td>child</td>\n",
       "      <td>10</td>\n",
       "      <td>A</td>\n",
       "      <td>2</td>\n",
       "      <td>0</td>\n",
       "      <td>1</td>\n",
       "      <td>6.0</td>\n",
       "      <td>14.0</td>\n",
       "      <td>15200</td>\n",
       "    </tr>\n",
       "    <tr>\n",
       "      <th>2</th>\n",
       "      <td>1000001</td>\n",
       "      <td>F</td>\n",
       "      <td>child</td>\n",
       "      <td>10</td>\n",
       "      <td>A</td>\n",
       "      <td>2</td>\n",
       "      <td>0</td>\n",
       "      <td>12</td>\n",
       "      <td>NaN</td>\n",
       "      <td>NaN</td>\n",
       "      <td>1422</td>\n",
       "    </tr>\n",
       "    <tr>\n",
       "      <th>3</th>\n",
       "      <td>1000001</td>\n",
       "      <td>F</td>\n",
       "      <td>child</td>\n",
       "      <td>10</td>\n",
       "      <td>A</td>\n",
       "      <td>2</td>\n",
       "      <td>0</td>\n",
       "      <td>12</td>\n",
       "      <td>14.0</td>\n",
       "      <td>NaN</td>\n",
       "      <td>1057</td>\n",
       "    </tr>\n",
       "    <tr>\n",
       "      <th>4</th>\n",
       "      <td>1000002</td>\n",
       "      <td>M</td>\n",
       "      <td>old</td>\n",
       "      <td>16</td>\n",
       "      <td>C</td>\n",
       "      <td>4</td>\n",
       "      <td>0</td>\n",
       "      <td>8</td>\n",
       "      <td>NaN</td>\n",
       "      <td>NaN</td>\n",
       "      <td>7969</td>\n",
       "    </tr>\n",
       "    <tr>\n",
       "      <th>5</th>\n",
       "      <td>1000003</td>\n",
       "      <td>M</td>\n",
       "      <td>adult</td>\n",
       "      <td>15</td>\n",
       "      <td>A</td>\n",
       "      <td>3</td>\n",
       "      <td>0</td>\n",
       "      <td>1</td>\n",
       "      <td>2.0</td>\n",
       "      <td>NaN</td>\n",
       "      <td>15227</td>\n",
       "    </tr>\n",
       "  </tbody>\n",
       "</table>\n",
       "</div>"
      ],
      "text/plain": [
       "    UserID Gender    Age  Occupation City_Category  city  maritial  product1  \\\n",
       "0  1000001      F  child          10             A     2         0         3   \n",
       "1  1000001      F  child          10             A     2         0         1   \n",
       "2  1000001      F  child          10             A     2         0        12   \n",
       "3  1000001      F  child          10             A     2         0        12   \n",
       "4  1000002      M    old          16             C     4         0         8   \n",
       "5  1000003      M  adult          15             A     3         0         1   \n",
       "\n",
       "   product2  product3  Purchase  \n",
       "0       NaN       NaN      8370  \n",
       "1       6.0      14.0     15200  \n",
       "2       NaN       NaN      1422  \n",
       "3      14.0       NaN      1057  \n",
       "4       NaN       NaN      7969  \n",
       "5       2.0       NaN     15227  "
      ]
     },
     "execution_count": 27,
     "metadata": {},
     "output_type": "execute_result"
    }
   ],
   "source": [
    "data.head(6)"
   ]
  },
  {
   "cell_type": "markdown",
   "id": "256da0ea",
   "metadata": {
    "papermill": {
     "duration": 0.021141,
     "end_time": "2022-10-17T11:58:51.646634",
     "exception": false,
     "start_time": "2022-10-17T11:58:51.625493",
     "status": "completed"
    },
    "tags": []
   },
   "source": [
    "#### Column:Occupation"
   ]
  },
  {
   "cell_type": "code",
   "execution_count": 28,
   "id": "0f1e88c7",
   "metadata": {
    "execution": {
     "iopub.execute_input": "2022-10-17T11:58:51.691830Z",
     "iopub.status.busy": "2022-10-17T11:58:51.691246Z",
     "iopub.status.idle": "2022-10-17T11:58:51.701642Z",
     "shell.execute_reply": "2022-10-17T11:58:51.700481Z"
    },
    "papermill": {
     "duration": 0.035457,
     "end_time": "2022-10-17T11:58:51.703827",
     "exception": false,
     "start_time": "2022-10-17T11:58:51.668370",
     "status": "completed"
    },
    "tags": []
   },
   "outputs": [
    {
     "data": {
      "text/plain": [
       "array([10, 16, 15,  7, 20,  9,  1, 12, 17,  0,  3,  4, 11,  8, 19,  2, 18,\n",
       "        5, 14, 13,  6])"
      ]
     },
     "execution_count": 28,
     "metadata": {},
     "output_type": "execute_result"
    }
   ],
   "source": [
    "data['Occupation'].unique()"
   ]
  },
  {
   "cell_type": "code",
   "execution_count": 29,
   "id": "b176e7dd",
   "metadata": {
    "execution": {
     "iopub.execute_input": "2022-10-17T11:58:51.749837Z",
     "iopub.status.busy": "2022-10-17T11:58:51.749199Z",
     "iopub.status.idle": "2022-10-17T11:58:51.755790Z",
     "shell.execute_reply": "2022-10-17T11:58:51.754938Z"
    },
    "papermill": {
     "duration": 0.031864,
     "end_time": "2022-10-17T11:58:51.757854",
     "exception": false,
     "start_time": "2022-10-17T11:58:51.725990",
     "status": "completed"
    },
    "tags": []
   },
   "outputs": [
    {
     "data": {
      "text/plain": [
       "dtype('int64')"
      ]
     },
     "execution_count": 29,
     "metadata": {},
     "output_type": "execute_result"
    }
   ],
   "source": [
    "data['Occupation'].dtype"
   ]
  },
  {
   "cell_type": "markdown",
   "id": "0af4449c",
   "metadata": {
    "papermill": {
     "duration": 0.021388,
     "end_time": "2022-10-17T11:58:51.800952",
     "exception": false,
     "start_time": "2022-10-17T11:58:51.779564",
     "status": "completed"
    },
    "tags": []
   },
   "source": [
    "#### Column:City category"
   ]
  },
  {
   "cell_type": "code",
   "execution_count": 30,
   "id": "ce567ba5",
   "metadata": {
    "execution": {
     "iopub.execute_input": "2022-10-17T11:58:51.846451Z",
     "iopub.status.busy": "2022-10-17T11:58:51.845684Z",
     "iopub.status.idle": "2022-10-17T11:58:51.886317Z",
     "shell.execute_reply": "2022-10-17T11:58:51.885243Z"
    },
    "papermill": {
     "duration": 0.065915,
     "end_time": "2022-10-17T11:58:51.888562",
     "exception": false,
     "start_time": "2022-10-17T11:58:51.822647",
     "status": "completed"
    },
    "tags": []
   },
   "outputs": [
    {
     "data": {
      "text/plain": [
       "array(['A', 'C', 'B'], dtype=object)"
      ]
     },
     "execution_count": 30,
     "metadata": {},
     "output_type": "execute_result"
    }
   ],
   "source": [
    "data['City_Category'].unique()"
   ]
  },
  {
   "cell_type": "markdown",
   "id": "ea7da434",
   "metadata": {
    "papermill": {
     "duration": 0.021366,
     "end_time": "2022-10-17T11:58:51.931786",
     "exception": false,
     "start_time": "2022-10-17T11:58:51.910420",
     "status": "completed"
    },
    "tags": []
   },
   "source": [
    "#### Column:maritial"
   ]
  },
  {
   "cell_type": "code",
   "execution_count": 31,
   "id": "a54e5009",
   "metadata": {
    "execution": {
     "iopub.execute_input": "2022-10-17T11:58:51.976778Z",
     "iopub.status.busy": "2022-10-17T11:58:51.976386Z",
     "iopub.status.idle": "2022-10-17T11:58:51.987014Z",
     "shell.execute_reply": "2022-10-17T11:58:51.986066Z"
    },
    "papermill": {
     "duration": 0.035747,
     "end_time": "2022-10-17T11:58:51.989146",
     "exception": false,
     "start_time": "2022-10-17T11:58:51.953399",
     "status": "completed"
    },
    "tags": []
   },
   "outputs": [
    {
     "data": {
      "text/plain": [
       "array([0, 1])"
      ]
     },
     "execution_count": 31,
     "metadata": {},
     "output_type": "execute_result"
    }
   ],
   "source": [
    "data['maritial'].unique()"
   ]
  },
  {
   "cell_type": "code",
   "execution_count": 32,
   "id": "69ab83d6",
   "metadata": {
    "execution": {
     "iopub.execute_input": "2022-10-17T11:58:52.035106Z",
     "iopub.status.busy": "2022-10-17T11:58:52.034636Z",
     "iopub.status.idle": "2022-10-17T11:58:52.041113Z",
     "shell.execute_reply": "2022-10-17T11:58:52.040257Z"
    },
    "papermill": {
     "duration": 0.031778,
     "end_time": "2022-10-17T11:58:52.043062",
     "exception": false,
     "start_time": "2022-10-17T11:58:52.011284",
     "status": "completed"
    },
    "tags": []
   },
   "outputs": [
    {
     "data": {
      "text/plain": [
       "dtype('int64')"
      ]
     },
     "execution_count": 32,
     "metadata": {},
     "output_type": "execute_result"
    }
   ],
   "source": [
    "data['maritial'].dtype"
   ]
  },
  {
   "cell_type": "markdown",
   "id": "6caddaf7",
   "metadata": {
    "papermill": {
     "duration": 0.022225,
     "end_time": "2022-10-17T11:58:52.087524",
     "exception": false,
     "start_time": "2022-10-17T11:58:52.065299",
     "status": "completed"
    },
    "tags": []
   },
   "source": [
    "* There's nothing to change in this column.\n",
    "1. Here married status -> 1\n",
    "2. Whereas single status -> 0"
   ]
  },
  {
   "cell_type": "code",
   "execution_count": 33,
   "id": "26352045",
   "metadata": {
    "execution": {
     "iopub.execute_input": "2022-10-17T11:58:52.134089Z",
     "iopub.status.busy": "2022-10-17T11:58:52.133664Z",
     "iopub.status.idle": "2022-10-17T11:58:52.168105Z",
     "shell.execute_reply": "2022-10-17T11:58:52.167049Z"
    },
    "papermill": {
     "duration": 0.060594,
     "end_time": "2022-10-17T11:58:52.170235",
     "exception": false,
     "start_time": "2022-10-17T11:58:52.109641",
     "status": "completed"
    },
    "tags": []
   },
   "outputs": [
    {
     "data": {
      "text/html": [
       "<div>\n",
       "<style scoped>\n",
       "    .dataframe tbody tr th:only-of-type {\n",
       "        vertical-align: middle;\n",
       "    }\n",
       "\n",
       "    .dataframe tbody tr th {\n",
       "        vertical-align: top;\n",
       "    }\n",
       "\n",
       "    .dataframe thead th {\n",
       "        text-align: right;\n",
       "    }\n",
       "</style>\n",
       "<table border=\"1\" class=\"dataframe\">\n",
       "  <thead>\n",
       "    <tr style=\"text-align: right;\">\n",
       "      <th></th>\n",
       "      <th>UserID</th>\n",
       "      <th>maritial</th>\n",
       "    </tr>\n",
       "  </thead>\n",
       "  <tbody>\n",
       "    <tr>\n",
       "      <th>550063</th>\n",
       "      <td>1006033</td>\n",
       "      <td>1</td>\n",
       "    </tr>\n",
       "    <tr>\n",
       "      <th>550064</th>\n",
       "      <td>1006035</td>\n",
       "      <td>0</td>\n",
       "    </tr>\n",
       "    <tr>\n",
       "      <th>550065</th>\n",
       "      <td>1006036</td>\n",
       "      <td>1</td>\n",
       "    </tr>\n",
       "    <tr>\n",
       "      <th>550066</th>\n",
       "      <td>1006038</td>\n",
       "      <td>0</td>\n",
       "    </tr>\n",
       "    <tr>\n",
       "      <th>550067</th>\n",
       "      <td>1006039</td>\n",
       "      <td>1</td>\n",
       "    </tr>\n",
       "  </tbody>\n",
       "</table>\n",
       "</div>"
      ],
      "text/plain": [
       "         UserID  maritial\n",
       "550063  1006033         1\n",
       "550064  1006035         0\n",
       "550065  1006036         1\n",
       "550066  1006038         0\n",
       "550067  1006039         1"
      ]
     },
     "execution_count": 33,
     "metadata": {},
     "output_type": "execute_result"
    }
   ],
   "source": [
    "data[['UserID','maritial']].tail()"
   ]
  },
  {
   "cell_type": "markdown",
   "id": "9e8e62b5",
   "metadata": {
    "papermill": {
     "duration": 0.021761,
     "end_time": "2022-10-17T11:58:52.214228",
     "exception": false,
     "start_time": "2022-10-17T11:58:52.192467",
     "status": "completed"
    },
    "tags": []
   },
   "source": [
    "#### Column:product1"
   ]
  },
  {
   "cell_type": "code",
   "execution_count": 34,
   "id": "deabb780",
   "metadata": {
    "execution": {
     "iopub.execute_input": "2022-10-17T11:58:52.260677Z",
     "iopub.status.busy": "2022-10-17T11:58:52.260200Z",
     "iopub.status.idle": "2022-10-17T11:58:52.270497Z",
     "shell.execute_reply": "2022-10-17T11:58:52.269621Z"
    },
    "papermill": {
     "duration": 0.036144,
     "end_time": "2022-10-17T11:58:52.272530",
     "exception": false,
     "start_time": "2022-10-17T11:58:52.236386",
     "status": "completed"
    },
    "tags": []
   },
   "outputs": [
    {
     "data": {
      "text/plain": [
       "array([ 3,  1, 12,  8,  5,  4,  2,  6, 14, 11, 13, 15,  7, 16, 18, 10, 17,\n",
       "        9, 20, 19])"
      ]
     },
     "execution_count": 34,
     "metadata": {},
     "output_type": "execute_result"
    }
   ],
   "source": [
    "data['product1'].unique()"
   ]
  },
  {
   "cell_type": "code",
   "execution_count": 35,
   "id": "9aca34a8",
   "metadata": {
    "execution": {
     "iopub.execute_input": "2022-10-17T11:58:52.318899Z",
     "iopub.status.busy": "2022-10-17T11:58:52.318497Z",
     "iopub.status.idle": "2022-10-17T11:58:52.324584Z",
     "shell.execute_reply": "2022-10-17T11:58:52.323540Z"
    },
    "papermill": {
     "duration": 0.032101,
     "end_time": "2022-10-17T11:58:52.326935",
     "exception": false,
     "start_time": "2022-10-17T11:58:52.294834",
     "status": "completed"
    },
    "tags": []
   },
   "outputs": [
    {
     "data": {
      "text/plain": [
       "dtype('int64')"
      ]
     },
     "execution_count": 35,
     "metadata": {},
     "output_type": "execute_result"
    }
   ],
   "source": [
    "data['product1'].dtype"
   ]
  },
  {
   "cell_type": "code",
   "execution_count": 36,
   "id": "f8c06e9e",
   "metadata": {
    "execution": {
     "iopub.execute_input": "2022-10-17T11:58:52.378504Z",
     "iopub.status.busy": "2022-10-17T11:58:52.378088Z",
     "iopub.status.idle": "2022-10-17T11:58:52.484981Z",
     "shell.execute_reply": "2022-10-17T11:58:52.483662Z"
    },
    "papermill": {
     "duration": 0.134395,
     "end_time": "2022-10-17T11:58:52.487741",
     "exception": false,
     "start_time": "2022-10-17T11:58:52.353346",
     "status": "completed"
    },
    "tags": []
   },
   "outputs": [
    {
     "name": "stdout",
     "output_type": "stream",
     "text": [
      "<class 'pandas.core.frame.DataFrame'>\n",
      "RangeIndex: 550068 entries, 0 to 550067\n",
      "Data columns (total 11 columns):\n",
      " #   Column         Non-Null Count   Dtype  \n",
      "---  ------         --------------   -----  \n",
      " 0   UserID         550068 non-null  int64  \n",
      " 1   Gender         550068 non-null  object \n",
      " 2   Age            550068 non-null  object \n",
      " 3   Occupation     550068 non-null  int64  \n",
      " 4   City_Category  550068 non-null  object \n",
      " 5   city           550068 non-null  int64  \n",
      " 6   maritial       550068 non-null  int64  \n",
      " 7   product1       550068 non-null  int64  \n",
      " 8   product2       376430 non-null  float64\n",
      " 9   product3       166821 non-null  float64\n",
      " 10  Purchase       550068 non-null  int64  \n",
      "dtypes: float64(2), int64(6), object(3)\n",
      "memory usage: 46.2+ MB\n"
     ]
    }
   ],
   "source": [
    "data.info()"
   ]
  },
  {
   "cell_type": "markdown",
   "id": "85a5ffba",
   "metadata": {
    "papermill": {
     "duration": 0.023421,
     "end_time": "2022-10-17T11:58:52.535612",
     "exception": false,
     "start_time": "2022-10-17T11:58:52.512191",
     "status": "completed"
    },
    "tags": []
   },
   "source": [
    "#### column:product2 ####"
   ]
  },
  {
   "cell_type": "code",
   "execution_count": 37,
   "id": "19882b28",
   "metadata": {
    "execution": {
     "iopub.execute_input": "2022-10-17T11:58:52.583200Z",
     "iopub.status.busy": "2022-10-17T11:58:52.582109Z",
     "iopub.status.idle": "2022-10-17T11:58:52.601672Z",
     "shell.execute_reply": "2022-10-17T11:58:52.600847Z"
    },
    "papermill": {
     "duration": 0.04552,
     "end_time": "2022-10-17T11:58:52.603907",
     "exception": false,
     "start_time": "2022-10-17T11:58:52.558387",
     "status": "completed"
    },
    "tags": []
   },
   "outputs": [
    {
     "data": {
      "text/plain": [
       "8.0     64088\n",
       "14.0    55108\n",
       "2.0     49217\n",
       "16.0    43255\n",
       "15.0    37855\n",
       "5.0     26235\n",
       "4.0     25677\n",
       "6.0     16466\n",
       "11.0    14134\n",
       "17.0    13320\n",
       "13.0    10531\n",
       "9.0      5693\n",
       "12.0     5528\n",
       "10.0     3043\n",
       "3.0      2884\n",
       "18.0     2770\n",
       "7.0       626\n",
       "Name: product2, dtype: int64"
      ]
     },
     "execution_count": 37,
     "metadata": {},
     "output_type": "execute_result"
    }
   ],
   "source": [
    "data['product2'].value_counts()"
   ]
  },
  {
   "cell_type": "code",
   "execution_count": 38,
   "id": "8acd815c",
   "metadata": {
    "execution": {
     "iopub.execute_input": "2022-10-17T11:58:52.651848Z",
     "iopub.status.busy": "2022-10-17T11:58:52.650488Z",
     "iopub.status.idle": "2022-10-17T11:58:52.659371Z",
     "shell.execute_reply": "2022-10-17T11:58:52.658326Z"
    },
    "papermill": {
     "duration": 0.034846,
     "end_time": "2022-10-17T11:58:52.661526",
     "exception": false,
     "start_time": "2022-10-17T11:58:52.626680",
     "status": "completed"
    },
    "tags": []
   },
   "outputs": [
    {
     "data": {
      "text/plain": [
       "31.56664266963357"
      ]
     },
     "execution_count": 38,
     "metadata": {},
     "output_type": "execute_result"
    }
   ],
   "source": [
    "#removing the percentage of null data in product2\n",
    "(data['product2'].isnull().sum() / len(data)) * 100"
   ]
  },
  {
   "cell_type": "code",
   "execution_count": 39,
   "id": "16778a01",
   "metadata": {
    "execution": {
     "iopub.execute_input": "2022-10-17T11:58:52.708838Z",
     "iopub.status.busy": "2022-10-17T11:58:52.708193Z",
     "iopub.status.idle": "2022-10-17T11:58:52.789977Z",
     "shell.execute_reply": "2022-10-17T11:58:52.788805Z"
    },
    "papermill": {
     "duration": 0.108095,
     "end_time": "2022-10-17T11:58:52.792355",
     "exception": false,
     "start_time": "2022-10-17T11:58:52.684260",
     "status": "completed"
    },
    "tags": []
   },
   "outputs": [
    {
     "data": {
      "text/plain": [
       "Age\n",
       "adult      8.0\n",
       "child      4.0\n",
       "old        8.0\n",
       "teenage    8.0\n",
       "Name: product2, dtype: float64"
      ]
     },
     "execution_count": 39,
     "metadata": {},
     "output_type": "execute_result"
    }
   ],
   "source": [
    "#removing the mode of product 2\n",
    "s=data.groupby('Age')['product2'].agg(pd.Series.mode)\n",
    "s"
   ]
  },
  {
   "cell_type": "code",
   "execution_count": 40,
   "id": "492a48fc",
   "metadata": {
    "execution": {
     "iopub.execute_input": "2022-10-17T11:58:52.840814Z",
     "iopub.status.busy": "2022-10-17T11:58:52.839892Z",
     "iopub.status.idle": "2022-10-17T11:58:53.018285Z",
     "shell.execute_reply": "2022-10-17T11:58:53.017052Z"
    },
    "papermill": {
     "duration": 0.205922,
     "end_time": "2022-10-17T11:58:53.021246",
     "exception": false,
     "start_time": "2022-10-17T11:58:52.815324",
     "status": "completed"
    },
    "tags": []
   },
   "outputs": [],
   "source": [
    "for key in s.index:\n",
    "    data.loc[(data['Age']==key) & (data['product2'].isnull()), 'product2']=s[key]"
   ]
  },
  {
   "cell_type": "code",
   "execution_count": 41,
   "id": "019cedcb",
   "metadata": {
    "execution": {
     "iopub.execute_input": "2022-10-17T11:58:53.069136Z",
     "iopub.status.busy": "2022-10-17T11:58:53.068715Z",
     "iopub.status.idle": "2022-10-17T11:58:53.078448Z",
     "shell.execute_reply": "2022-10-17T11:58:53.077499Z"
    },
    "papermill": {
     "duration": 0.036472,
     "end_time": "2022-10-17T11:58:53.080783",
     "exception": false,
     "start_time": "2022-10-17T11:58:53.044311",
     "status": "completed"
    },
    "tags": []
   },
   "outputs": [
    {
     "data": {
      "text/plain": [
       "0"
      ]
     },
     "execution_count": 41,
     "metadata": {},
     "output_type": "execute_result"
    }
   ],
   "source": [
    "data['product2'].isnull().sum()"
   ]
  },
  {
   "cell_type": "markdown",
   "id": "f405dd49",
   "metadata": {
    "papermill": {
     "duration": 0.022725,
     "end_time": "2022-10-17T11:58:53.126911",
     "exception": false,
     "start_time": "2022-10-17T11:58:53.104186",
     "status": "completed"
    },
    "tags": []
   },
   "source": [
    "#### column:product3 ####"
   ]
  },
  {
   "cell_type": "code",
   "execution_count": 42,
   "id": "a7b3bfc5",
   "metadata": {
    "execution": {
     "iopub.execute_input": "2022-10-17T11:58:53.176252Z",
     "iopub.status.busy": "2022-10-17T11:58:53.175583Z",
     "iopub.status.idle": "2022-10-17T11:58:53.190575Z",
     "shell.execute_reply": "2022-10-17T11:58:53.189284Z"
    },
    "papermill": {
     "duration": 0.042334,
     "end_time": "2022-10-17T11:58:53.192839",
     "exception": false,
     "start_time": "2022-10-17T11:58:53.150505",
     "status": "completed"
    },
    "tags": []
   },
   "outputs": [
    {
     "data": {
      "text/plain": [
       "16.0    32636\n",
       "15.0    28013\n",
       "14.0    18428\n",
       "17.0    16702\n",
       "5.0     16658\n",
       "8.0     12562\n",
       "9.0     11579\n",
       "12.0     9246\n",
       "13.0     5459\n",
       "6.0      4890\n",
       "18.0     4629\n",
       "4.0      1875\n",
       "11.0     1805\n",
       "10.0     1726\n",
       "3.0       613\n",
       "Name: product3, dtype: int64"
      ]
     },
     "execution_count": 42,
     "metadata": {},
     "output_type": "execute_result"
    }
   ],
   "source": [
    "data['product3'].value_counts()"
   ]
  },
  {
   "cell_type": "code",
   "execution_count": 43,
   "id": "73a492d5",
   "metadata": {
    "execution": {
     "iopub.execute_input": "2022-10-17T11:58:53.241204Z",
     "iopub.status.busy": "2022-10-17T11:58:53.240444Z",
     "iopub.status.idle": "2022-10-17T11:58:53.249556Z",
     "shell.execute_reply": "2022-10-17T11:58:53.248383Z"
    },
    "papermill": {
     "duration": 0.035756,
     "end_time": "2022-10-17T11:58:53.251748",
     "exception": false,
     "start_time": "2022-10-17T11:58:53.215992",
     "status": "completed"
    },
    "tags": []
   },
   "outputs": [
    {
     "data": {
      "text/plain": [
       "69.67265865311198"
      ]
     },
     "execution_count": 43,
     "metadata": {},
     "output_type": "execute_result"
    }
   ],
   "source": [
    "#removing the percentage of null data in product3\n",
    "(data['product3'].isnull().sum() / len(data)) * 100"
   ]
  },
  {
   "cell_type": "code",
   "execution_count": 44,
   "id": "a41f210b",
   "metadata": {
    "execution": {
     "iopub.execute_input": "2022-10-17T11:58:53.300731Z",
     "iopub.status.busy": "2022-10-17T11:58:53.300020Z",
     "iopub.status.idle": "2022-10-17T11:58:53.377167Z",
     "shell.execute_reply": "2022-10-17T11:58:53.376264Z"
    },
    "papermill": {
     "duration": 0.104113,
     "end_time": "2022-10-17T11:58:53.379327",
     "exception": false,
     "start_time": "2022-10-17T11:58:53.275214",
     "status": "completed"
    },
    "tags": []
   },
   "outputs": [
    {
     "data": {
      "text/plain": [
       "Age\n",
       "adult      16.0\n",
       "child      16.0\n",
       "old        16.0\n",
       "teenage    16.0\n",
       "Name: product3, dtype: float64"
      ]
     },
     "execution_count": 44,
     "metadata": {},
     "output_type": "execute_result"
    }
   ],
   "source": [
    "#removing the mode of product 3\n",
    "p=data.groupby('Age')['product3'].agg(pd.Series.mode)\n",
    "p"
   ]
  },
  {
   "cell_type": "code",
   "execution_count": 45,
   "id": "76a3d6e5",
   "metadata": {
    "execution": {
     "iopub.execute_input": "2022-10-17T11:58:53.439784Z",
     "iopub.status.busy": "2022-10-17T11:58:53.438346Z",
     "iopub.status.idle": "2022-10-17T11:58:53.630253Z",
     "shell.execute_reply": "2022-10-17T11:58:53.627518Z"
    },
    "papermill": {
     "duration": 0.225615,
     "end_time": "2022-10-17T11:58:53.633449",
     "exception": false,
     "start_time": "2022-10-17T11:58:53.407834",
     "status": "completed"
    },
    "tags": []
   },
   "outputs": [],
   "source": [
    "for key in p.index:\n",
    "    data.loc[(data['Age']==key) & (data['product3'].isnull()), 'product3']=p[key]"
   ]
  },
  {
   "cell_type": "code",
   "execution_count": 46,
   "id": "07026483",
   "metadata": {
    "execution": {
     "iopub.execute_input": "2022-10-17T11:58:53.699676Z",
     "iopub.status.busy": "2022-10-17T11:58:53.698294Z",
     "iopub.status.idle": "2022-10-17T11:58:53.708929Z",
     "shell.execute_reply": "2022-10-17T11:58:53.707880Z"
    },
    "papermill": {
     "duration": 0.041751,
     "end_time": "2022-10-17T11:58:53.711141",
     "exception": false,
     "start_time": "2022-10-17T11:58:53.669390",
     "status": "completed"
    },
    "tags": []
   },
   "outputs": [
    {
     "data": {
      "text/plain": [
       "0"
      ]
     },
     "execution_count": 46,
     "metadata": {},
     "output_type": "execute_result"
    }
   ],
   "source": [
    "data['product3'].isnull().sum()"
   ]
  },
  {
   "cell_type": "markdown",
   "id": "ba894e48",
   "metadata": {
    "papermill": {
     "duration": 0.030249,
     "end_time": "2022-10-17T11:58:53.767410",
     "exception": false,
     "start_time": "2022-10-17T11:58:53.737161",
     "status": "completed"
    },
    "tags": []
   },
   "source": [
    "### ***After cleaning checking the data:-***"
   ]
  },
  {
   "cell_type": "code",
   "execution_count": 47,
   "id": "ba54b574",
   "metadata": {
    "execution": {
     "iopub.execute_input": "2022-10-17T11:58:53.819777Z",
     "iopub.status.busy": "2022-10-17T11:58:53.819031Z",
     "iopub.status.idle": "2022-10-17T11:58:53.913287Z",
     "shell.execute_reply": "2022-10-17T11:58:53.912422Z"
    },
    "papermill": {
     "duration": 0.125349,
     "end_time": "2022-10-17T11:58:53.917486",
     "exception": false,
     "start_time": "2022-10-17T11:58:53.792137",
     "status": "completed"
    },
    "tags": []
   },
   "outputs": [
    {
     "name": "stdout",
     "output_type": "stream",
     "text": [
      "<class 'pandas.core.frame.DataFrame'>\n",
      "RangeIndex: 550068 entries, 0 to 550067\n",
      "Data columns (total 11 columns):\n",
      " #   Column         Non-Null Count   Dtype  \n",
      "---  ------         --------------   -----  \n",
      " 0   UserID         550068 non-null  int64  \n",
      " 1   Gender         550068 non-null  object \n",
      " 2   Age            550068 non-null  object \n",
      " 3   Occupation     550068 non-null  int64  \n",
      " 4   City_Category  550068 non-null  object \n",
      " 5   city           550068 non-null  int64  \n",
      " 6   maritial       550068 non-null  int64  \n",
      " 7   product1       550068 non-null  int64  \n",
      " 8   product2       550068 non-null  float64\n",
      " 9   product3       550068 non-null  float64\n",
      " 10  Purchase       550068 non-null  int64  \n",
      "dtypes: float64(2), int64(6), object(3)\n",
      "memory usage: 46.2+ MB\n"
     ]
    }
   ],
   "source": [
    "data.info()"
   ]
  },
  {
   "cell_type": "code",
   "execution_count": 48,
   "id": "0bb1286e",
   "metadata": {
    "execution": {
     "iopub.execute_input": "2022-10-17T11:58:53.972365Z",
     "iopub.status.busy": "2022-10-17T11:58:53.971399Z",
     "iopub.status.idle": "2022-10-17T11:58:54.066418Z",
     "shell.execute_reply": "2022-10-17T11:58:54.065290Z"
    },
    "papermill": {
     "duration": 0.123503,
     "end_time": "2022-10-17T11:58:54.069266",
     "exception": false,
     "start_time": "2022-10-17T11:58:53.945763",
     "status": "completed"
    },
    "tags": []
   },
   "outputs": [
    {
     "data": {
      "text/plain": [
       "UserID           0\n",
       "Gender           0\n",
       "Age              0\n",
       "Occupation       0\n",
       "City_Category    0\n",
       "city             0\n",
       "maritial         0\n",
       "product1         0\n",
       "product2         0\n",
       "product3         0\n",
       "Purchase         0\n",
       "dtype: int64"
      ]
     },
     "execution_count": 48,
     "metadata": {},
     "output_type": "execute_result"
    }
   ],
   "source": [
    "data.isnull().sum()"
   ]
  },
  {
   "cell_type": "code",
   "execution_count": 49,
   "id": "beb69440",
   "metadata": {
    "execution": {
     "iopub.execute_input": "2022-10-17T11:58:54.123260Z",
     "iopub.status.busy": "2022-10-17T11:58:54.122382Z",
     "iopub.status.idle": "2022-10-17T11:59:00.000146Z",
     "shell.execute_reply": "2022-10-17T11:58:59.999044Z"
    },
    "papermill": {
     "duration": 5.906226,
     "end_time": "2022-10-17T11:59:00.003171",
     "exception": false,
     "start_time": "2022-10-17T11:58:54.096945",
     "status": "completed"
    },
    "tags": []
   },
   "outputs": [
    {
     "data": {
      "image/png": "[encoded data removed]",
      "text/plain": [
       "<Figure size 432x288 with 2 Axes>"
      ]
     },
     "metadata": {
      "needs_background": "light"
     },
     "output_type": "display_data"
    }
   ],
   "source": [
    "sns.heatmap(data.isnull())\n",
    "plt.show()"
   ]
  },
  {
   "cell_type": "markdown",
   "id": "b395194b",
   "metadata": {
    "papermill": {
     "duration": 0.024458,
     "end_time": "2022-10-17T11:59:00.052234",
     "exception": false,
     "start_time": "2022-10-17T11:59:00.027776",
     "status": "completed"
    },
    "tags": []
   },
   "source": [
    "The heat map shows that there is no null value present in data set."
   ]
  },
  {
   "cell_type": "markdown",
   "id": "1e2417af",
   "metadata": {
    "papermill": {
     "duration": 0.024127,
     "end_time": "2022-10-17T11:59:00.100910",
     "exception": false,
     "start_time": "2022-10-17T11:59:00.076783",
     "status": "completed"
    },
    "tags": []
   },
   "source": [
    "# ***Data visualization***\n",
    "* For data visualization we are going to use two python libraries.\n",
    "1. Seaborn\n",
    "2. Matplotlib"
   ]
  },
  {
   "cell_type": "code",
   "execution_count": 50,
   "id": "4926e5f9",
   "metadata": {
    "execution": {
     "iopub.execute_input": "2022-10-17T11:59:00.152502Z",
     "iopub.status.busy": "2022-10-17T11:59:00.151765Z",
     "iopub.status.idle": "2022-10-17T11:59:08.464319Z",
     "shell.execute_reply": "2022-10-17T11:59:08.463106Z"
    },
    "papermill": {
     "duration": 8.341733,
     "end_time": "2022-10-17T11:59:08.467111",
     "exception": false,
     "start_time": "2022-10-17T11:59:00.125378",
     "status": "completed"
    },
    "tags": []
   },
   "outputs": [
    {
     "data": {
      "text/plain": [
       "<AxesSubplot:title={'center':'age vs purchase'}, xlabel='Age', ylabel='Purchase'>"
      ]
     },
     "execution_count": 50,
     "metadata": {},
     "output_type": "execute_result"
    },
    {
     "data": {
      "image/png": "[encoded data removed]",
      "text/plain": [
       "<Figure size 480x480 with 1 Axes>"
      ]
     },
     "metadata": {
      "needs_background": "light"
     },
     "output_type": "display_data"
    }
   ],
   "source": [
    "# Age vs purshased\n",
    "plt.figure(figsize=(6,6),dpi=80)\n",
    "plt.title('age vs purchase')\n",
    "sns.barplot(x='Age',y='Purchase',data=data,palette='Set1')"
   ]
  },
  {
   "cell_type": "markdown",
   "id": "88eb663d",
   "metadata": {
    "papermill": {
     "duration": 0.024138,
     "end_time": "2022-10-17T11:59:08.515970",
     "exception": false,
     "start_time": "2022-10-17T11:59:08.491832",
     "status": "completed"
    },
    "tags": []
   },
   "source": [
    "* Here we understood that the purchase rate of old age is ids highest and the lowest rate is of child."
   ]
  },
  {
   "cell_type": "code",
   "execution_count": 51,
   "id": "9e5b9872",
   "metadata": {
    "execution": {
     "iopub.execute_input": "2022-10-17T11:59:08.566811Z",
     "iopub.status.busy": "2022-10-17T11:59:08.566406Z",
     "iopub.status.idle": "2022-10-17T11:59:13.194051Z",
     "shell.execute_reply": "2022-10-17T11:59:13.192849Z"
    },
    "papermill": {
     "duration": 4.656105,
     "end_time": "2022-10-17T11:59:13.196543",
     "exception": false,
     "start_time": "2022-10-17T11:59:08.540438",
     "status": "completed"
    },
    "tags": []
   },
   "outputs": [
    {
     "name": "stderr",
     "output_type": "stream",
     "text": [
      "/opt/conda/lib/python3.7/site-packages/seaborn/_decorators.py:43: FutureWarning: Pass the following variable as a keyword arg: x. From version 0.12, the only valid positional argument will be `data`, and passing other arguments without an explicit keyword will result in an error or misinterpretation.\n",
      "  FutureWarning\n",
      "/opt/conda/lib/python3.7/site-packages/seaborn/_decorators.py:43: FutureWarning: Pass the following variable as a keyword arg: x. From version 0.12, the only valid positional argument will be `data`, and passing other arguments without an explicit keyword will result in an error or misinterpretation.\n",
      "  FutureWarning\n",
      "/opt/conda/lib/python3.7/site-packages/seaborn/_decorators.py:43: FutureWarning: Pass the following variable as a keyword arg: x. From version 0.12, the only valid positional argument will be `data`, and passing other arguments without an explicit keyword will result in an error or misinterpretation.\n",
      "  FutureWarning\n",
      "/opt/conda/lib/python3.7/site-packages/seaborn/_decorators.py:43: FutureWarning: Pass the following variable as a keyword arg: x. From version 0.12, the only valid positional argument will be `data`, and passing other arguments without an explicit keyword will result in an error or misinterpretation.\n",
      "  FutureWarning\n",
      "/opt/conda/lib/python3.7/site-packages/seaborn/_decorators.py:43: FutureWarning: Pass the following variable as a keyword arg: x. From version 0.12, the only valid positional argument will be `data`, and passing other arguments without an explicit keyword will result in an error or misinterpretation.\n",
      "  FutureWarning\n"
     ]
    },
    {
     "data": {
      "image/png": "[encoded data removed]",
      "text/plain": [
       "<Figure size 960x960 with 8 Axes>"
      ]
     },
     "metadata": {
      "needs_background": "light"
     },
     "output_type": "display_data"
    }
   ],
   "source": [
    "# Visualizing individual column \n",
    "plt.figure(figsize=(12,12),dpi=80)\n",
    "plt.subplot(4,2,1)\n",
    "plt.title('Gender')\n",
    "sns.countplot(x='Gender',data=data,palette='muted')\n",
    "\n",
    "plt.subplot(4,2,3)\n",
    "plt.title('Age')\n",
    "sns.countplot(x='Age',data=data,palette='rocket')\n",
    "\n",
    "plt.subplot(4,2,2)\n",
    "plt.title('Occupation')\n",
    "sns.countplot(data['Occupation'],palette='colorblind')\n",
    "\n",
    "plt.subplot(4,2,4)\n",
    "plt.title('City category')\n",
    "sns.countplot(data['City_Category'],palette='crest')\n",
    "\n",
    "plt.subplot(4,2,5)\n",
    "plt.title('City')\n",
    "sns.countplot(data['city'],palette='coolwarm')\n",
    "\n",
    "plt.subplot(4,2,6)\n",
    "plt.title('Maritial')\n",
    "sns.countplot(data['maritial'],palette='hot')\n",
    "\n",
    "ax=plt.subplot(4,2,8)\n",
    "plt.title('Purchase')\n",
    "ax.set_ylim(0,0.00015)\n",
    "ax.set_xlim(0,26000)\n",
    "sns.kdeplot(data['Purchase'])\n",
    "\n",
    "plt.subplot(4,2,7)\n",
    "plt.title('Product1')\n",
    "sns.countplot(data['product1'],palette='viridis')\n",
    "\n",
    "plt.tight_layout()\n",
    "plt.show()"
   ]
  },
  {
   "cell_type": "markdown",
   "id": "f495b700",
   "metadata": {
    "papermill": {
     "duration": 0.025632,
     "end_time": "2022-10-17T11:59:13.248623",
     "exception": false,
     "start_time": "2022-10-17T11:59:13.222991",
     "status": "completed"
    },
    "tags": []
   },
   "source": [
    "**Gender:-**\n",
    "* The graph shows that count of male is more than female.\n",
    "* Male count=4000\n",
    "* Female count=1500\n",
    "\n",
    "**Age:-**\n",
    "* The graph shows that pepople visiting the store are maximum adults.\n",
    "* Adult age ranges from 26-50\n",
    "* Where as least visited are children.\n",
    "\n",
    "**Maritial:-**\n",
    "* People visting the store are married and has higher count as compared to singles.\n",
    "* Married count = 3,00,000\n",
    "* Single count=2,00,000\n",
    "\n",
    "**Purchase:-**\n",
    "* Purchase rate is higher between 5000 - 10,000\n",
    "* Purchase rate goes upto range 25,0000\n",
    "\n",
    "**City category:-**\n",
    "* People visiting the store maximum belong to city category B.\n",
    "* Least visiting people visiting the store belong to category A.\n",
    "\n",
    "**City:-**\n",
    "* Maximum people visiting the store belong to 1.\n",
    "* Least visited is city 0.\n",
    "* By this we can conclude that the store is located in city 1."
   ]
  },
  {
   "cell_type": "code",
   "execution_count": 52,
   "id": "92900547",
   "metadata": {
    "execution": {
     "iopub.execute_input": "2022-10-17T11:59:13.302418Z",
     "iopub.status.busy": "2022-10-17T11:59:13.301661Z",
     "iopub.status.idle": "2022-10-17T11:59:36.757931Z",
     "shell.execute_reply": "2022-10-17T11:59:36.756819Z"
    },
    "papermill": {
     "duration": 23.485981,
     "end_time": "2022-10-17T11:59:36.760557",
     "exception": false,
     "start_time": "2022-10-17T11:59:13.274576",
     "status": "completed"
    },
    "tags": []
   },
   "outputs": [
    {
     "data": {
      "image/png": "[encoded data removed]",
      "text/plain": [
       "<Figure size 640x640 with 3 Axes>"
      ]
     },
     "metadata": {
      "needs_background": "light"
     },
     "output_type": "display_data"
    }
   ],
   "source": [
    "plt.figure(figsize=(8,8),dpi=80)\n",
    "plt.subplot(2,2,1)\n",
    "plt.title('gender vs purchase')\n",
    "sns.barplot(x='Gender',y='Purchase',data=data,palette='autumn')\n",
    "\n",
    "plt.subplot(2,2,2)\n",
    "plt.title('maritial vs purchase')\n",
    "sns.barplot(x='maritial',y='Purchase',hue='Gender',data=data,palette='viridis')\n",
    "\n",
    "plt.subplot(2,2,3)\n",
    "plt.title('City vs Purchase')\n",
    "sns.barplot(data=data,x='City_Category',y='Purchase',hue='Gender',palette='Purples')\n",
    "\n",
    "plt.tight_layout()\n",
    "plt.show()"
   ]
  },
  {
   "cell_type": "markdown",
   "id": "9a4763c2",
   "metadata": {
    "papermill": {
     "duration": 0.025866,
     "end_time": "2022-10-17T11:59:36.812802",
     "exception": false,
     "start_time": "2022-10-17T11:59:36.786936",
     "status": "completed"
    },
    "tags": []
   },
   "source": [
    "* By these 3 ploted graph we conclude that male has higher purchase rate than female\n",
    "* male > female(purchase)"
   ]
  },
  {
   "cell_type": "code",
   "execution_count": 53,
   "id": "67be9c6d",
   "metadata": {
    "execution": {
     "iopub.execute_input": "2022-10-17T11:59:36.867640Z",
     "iopub.status.busy": "2022-10-17T11:59:36.866666Z",
     "iopub.status.idle": "2022-10-17T11:59:44.430203Z",
     "shell.execute_reply": "2022-10-17T11:59:44.428815Z"
    },
    "papermill": {
     "duration": 7.593789,
     "end_time": "2022-10-17T11:59:44.432818",
     "exception": false,
     "start_time": "2022-10-17T11:59:36.839029",
     "status": "completed"
    },
    "tags": []
   },
   "outputs": [
    {
     "data": {
      "text/plain": [
       "<AxesSubplot:title={'center':'maritial status vs purchase'}, xlabel='maritial', ylabel='Purchase'>"
      ]
     },
     "execution_count": 53,
     "metadata": {},
     "output_type": "execute_result"
    },
    {
     "data": {
      "image/png": "[encoded data removed]",
      "text/plain": [
       "<Figure size 640x640 with 1 Axes>"
      ]
     },
     "metadata": {
      "needs_background": "light"
     },
     "output_type": "display_data"
    }
   ],
   "source": [
    "# Plotting purchase vs product1\n",
    "plt.figure(figsize=(8,8),dpi=80)\n",
    "plt.title('maritial status vs purchase')\n",
    "sns.barplot(x='maritial',y='Purchase',data=data,palette='dark',hue='Age')"
   ]
  },
  {
   "cell_type": "markdown",
   "id": "a1734448",
   "metadata": {
    "papermill": {
     "duration": 0.026484,
     "end_time": "2022-10-17T11:59:44.486310",
     "exception": false,
     "start_time": "2022-10-17T11:59:44.459826",
     "status": "completed"
    },
    "tags": []
   },
   "source": [
    "* This graph we come to know that purchase rate is more in singles rather than in married.\n",
    "* In singles purchase rate of old age is higher where as in married purchase rate of old is higher."
   ]
  },
  {
   "cell_type": "code",
   "execution_count": 54,
   "id": "c438e36d",
   "metadata": {
    "execution": {
     "iopub.execute_input": "2022-10-17T11:59:44.541320Z",
     "iopub.status.busy": "2022-10-17T11:59:44.540874Z",
     "iopub.status.idle": "2022-10-17T11:59:44.884148Z",
     "shell.execute_reply": "2022-10-17T11:59:44.882809Z"
    },
    "papermill": {
     "duration": 0.374741,
     "end_time": "2022-10-17T11:59:44.887717",
     "exception": false,
     "start_time": "2022-10-17T11:59:44.512976",
     "status": "completed"
    },
    "tags": []
   },
   "outputs": [
    {
     "data": {
      "text/html": [
       "<div>\n",
       "<style scoped>\n",
       "    .dataframe tbody tr th:only-of-type {\n",
       "        vertical-align: middle;\n",
       "    }\n",
       "\n",
       "    .dataframe tbody tr th {\n",
       "        vertical-align: top;\n",
       "    }\n",
       "\n",
       "    .dataframe thead th {\n",
       "        text-align: right;\n",
       "    }\n",
       "</style>\n",
       "<table border=\"1\" class=\"dataframe\">\n",
       "  <thead>\n",
       "    <tr style=\"text-align: right;\">\n",
       "      <th></th>\n",
       "      <th>Age</th>\n",
       "    </tr>\n",
       "    <tr>\n",
       "      <th>Age</th>\n",
       "      <th></th>\n",
       "    </tr>\n",
       "  </thead>\n",
       "  <tbody>\n",
       "    <tr>\n",
       "      <th>adult</th>\n",
       "      <td>375301</td>\n",
       "    </tr>\n",
       "    <tr>\n",
       "      <th>child</th>\n",
       "      <td>15102</td>\n",
       "    </tr>\n",
       "    <tr>\n",
       "      <th>old</th>\n",
       "      <td>60005</td>\n",
       "    </tr>\n",
       "    <tr>\n",
       "      <th>teenage</th>\n",
       "      <td>99660</td>\n",
       "    </tr>\n",
       "  </tbody>\n",
       "</table>\n",
       "</div>"
      ],
      "text/plain": [
       "            Age\n",
       "Age            \n",
       "adult    375301\n",
       "child     15102\n",
       "old       60005\n",
       "teenage   99660"
      ]
     },
     "metadata": {},
     "output_type": "display_data"
    },
    {
     "data": {
      "image/png": "[encoded data removed]",
      "text/plain": [
       "<Figure size 432x288 with 1 Axes>"
      ]
     },
     "metadata": {},
     "output_type": "display_data"
    }
   ],
   "source": [
    "#Age count\n",
    "a=data.groupby('Age')['Age'].agg('count')\n",
    "display(a.to_frame())\n",
    "plt.title('Age count')\n",
    "palette_color=sns.color_palette('bright')\n",
    "plt.pie(a, colors=palette_color,labels=a.index,radius=1.2,autopct='%.0f%%')\n",
    "plt.show()"
   ]
  },
  {
   "cell_type": "markdown",
   "id": "b39263b6",
   "metadata": {
    "papermill": {
     "duration": 0.039211,
     "end_time": "2022-10-17T11:59:44.972020",
     "exception": false,
     "start_time": "2022-10-17T11:59:44.932809",
     "status": "completed"
    },
    "tags": []
   },
   "source": [
    "* Maximum people visiting the store are from adult category.\n",
    "* Least people visiting belong to child category."
   ]
  },
  {
   "cell_type": "code",
   "execution_count": 55,
   "id": "db75af11",
   "metadata": {
    "execution": {
     "iopub.execute_input": "2022-10-17T11:59:45.029118Z",
     "iopub.status.busy": "2022-10-17T11:59:45.028188Z",
     "iopub.status.idle": "2022-10-17T11:59:45.202942Z",
     "shell.execute_reply": "2022-10-17T11:59:45.201705Z"
    },
    "papermill": {
     "duration": 0.206402,
     "end_time": "2022-10-17T11:59:45.205924",
     "exception": false,
     "start_time": "2022-10-17T11:59:44.999522",
     "status": "completed"
    },
    "tags": []
   },
   "outputs": [
    {
     "data": {
      "text/html": [
       "<div>\n",
       "<style scoped>\n",
       "    .dataframe tbody tr th:only-of-type {\n",
       "        vertical-align: middle;\n",
       "    }\n",
       "\n",
       "    .dataframe tbody tr th {\n",
       "        vertical-align: top;\n",
       "    }\n",
       "\n",
       "    .dataframe thead th {\n",
       "        text-align: right;\n",
       "    }\n",
       "</style>\n",
       "<table border=\"1\" class=\"dataframe\">\n",
       "  <thead>\n",
       "    <tr style=\"text-align: right;\">\n",
       "      <th></th>\n",
       "      <th>City_Category</th>\n",
       "    </tr>\n",
       "    <tr>\n",
       "      <th>City_Category</th>\n",
       "      <th></th>\n",
       "    </tr>\n",
       "  </thead>\n",
       "  <tbody>\n",
       "    <tr>\n",
       "      <th>A</th>\n",
       "      <td>147720</td>\n",
       "    </tr>\n",
       "    <tr>\n",
       "      <th>B</th>\n",
       "      <td>231173</td>\n",
       "    </tr>\n",
       "    <tr>\n",
       "      <th>C</th>\n",
       "      <td>171175</td>\n",
       "    </tr>\n",
       "  </tbody>\n",
       "</table>\n",
       "</div>"
      ],
      "text/plain": [
       "               City_Category\n",
       "City_Category               \n",
       "A                     147720\n",
       "B                     231173\n",
       "C                     171175"
      ]
     },
     "metadata": {},
     "output_type": "display_data"
    },
    {
     "data": {
      "image/png": "[encoded data removed]",
      "text/plain": [
       "<Figure size 450x450 with 1 Axes>"
      ]
     },
     "metadata": {},
     "output_type": "display_data"
    }
   ],
   "source": [
    "#city category\n",
    "plt.figure(figsize=(5,5),dpi=90)\n",
    "plt.title('City category')\n",
    "palette_color=sns.color_palette('bright')\n",
    "b=data.groupby('City_Category')['City_Category'].agg('count')\n",
    "display(b.to_frame())\n",
    "plt.pie(b,labels=b.index,autopct='%.0f%%')\n",
    "plt.show()"
   ]
  },
  {
   "cell_type": "markdown",
   "id": "afb24d85",
   "metadata": {
    "papermill": {
     "duration": 0.036506,
     "end_time": "2022-10-17T11:59:45.291074",
     "exception": false,
     "start_time": "2022-10-17T11:59:45.254568",
     "status": "completed"
    },
    "tags": []
   },
   "source": [
    "* People visting the store belong to city category B.\n",
    "* Least visiting belong to city A."
   ]
  },
  {
   "cell_type": "code",
   "execution_count": 56,
   "id": "bd4da936",
   "metadata": {
    "execution": {
     "iopub.execute_input": "2022-10-17T11:59:45.348841Z",
     "iopub.status.busy": "2022-10-17T11:59:45.348064Z",
     "iopub.status.idle": "2022-10-17T12:00:09.217504Z",
     "shell.execute_reply": "2022-10-17T12:00:09.216306Z"
    },
    "papermill": {
     "duration": 23.901295,
     "end_time": "2022-10-17T12:00:09.220045",
     "exception": false,
     "start_time": "2022-10-17T11:59:45.318750",
     "status": "completed"
    },
    "tags": []
   },
   "outputs": [
    {
     "data": {
      "image/png": "[encoded data removed]",
      "text/plain": [
       "<Figure size 800x400 with 3 Axes>"
      ]
     },
     "metadata": {
      "needs_background": "light"
     },
     "output_type": "display_data"
    }
   ],
   "source": [
    "#Plotting products vs purchase rate\n",
    "plt.figure(figsize=(10,5),dpi=80)\n",
    "plt.subplot(2,2,1)\n",
    "plt.title('product1 vs purchase')\n",
    "sns.barplot(x='product1',y='Purchase',data=data)\n",
    "plt.xticks(rotation=90)\n",
    "\n",
    "plt.subplot(2,2,2)\n",
    "plt.title('product2 vs purchase')\n",
    "sns.barplot(x='product2',y='Purchase',data=data)\n",
    "plt.xticks(rotation=90)\n",
    "\n",
    "plt.subplot(2,2,3)\n",
    "plt.title('product3 vs purchase')\n",
    "sns.barplot(x='product3',y='Purchase',data=data)\n",
    "plt.xticks(rotation=90)\n",
    "\n",
    "\n",
    "plt.tight_layout()\n",
    "plt.show()"
   ]
  },
  {
   "cell_type": "markdown",
   "id": "667451bd",
   "metadata": {
    "papermill": {
     "duration": 0.027786,
     "end_time": "2022-10-17T12:00:09.276162",
     "exception": false,
     "start_time": "2022-10-17T12:00:09.248376",
     "status": "completed"
    },
    "tags": []
   },
   "source": [
    "* In this graph of product1 and product2 the 10th product is more purchased.\n",
    "* In product3 3rd product is more purchased compared to all."
   ]
  },
  {
   "cell_type": "code",
   "execution_count": 57,
   "id": "6d34386b",
   "metadata": {
    "execution": {
     "iopub.execute_input": "2022-10-17T12:00:09.334699Z",
     "iopub.status.busy": "2022-10-17T12:00:09.334193Z",
     "iopub.status.idle": "2022-10-17T12:00:09.992197Z",
     "shell.execute_reply": "2022-10-17T12:00:09.990826Z"
    },
    "papermill": {
     "duration": 0.69045,
     "end_time": "2022-10-17T12:00:09.994890",
     "exception": false,
     "start_time": "2022-10-17T12:00:09.304440",
     "status": "completed"
    },
    "tags": []
   },
   "outputs": [
    {
     "data": {
      "image/png": "[encoded data removed]",
      "text/plain": [
       "<Figure size 700x350 with 2 Axes>"
      ]
     },
     "metadata": {
      "needs_background": "light"
     },
     "output_type": "display_data"
    }
   ],
   "source": [
    "plt.figure(figsize=(10,5),dpi=70)\n",
    "plt.subplot(1,2,1)\n",
    "um=data[data['maritial']==0].value_counts('Purchase')\n",
    "plt.title('Unmarried')\n",
    "sns.kdeplot('Purchase',data=um)\n",
    "\n",
    "plt.subplot(1,2,2)\n",
    "m=data[data['maritial']==1].value_counts('Purchase')\n",
    "plt.title('Married')\n",
    "sns.kdeplot('Purchase',data=m)\n",
    "\n",
    "plt.tight_layout()\n",
    "plt.show()"
   ]
  },
  {
   "cell_type": "markdown",
   "id": "45db2a3f",
   "metadata": {
    "papermill": {
     "duration": 0.029093,
     "end_time": "2022-10-17T12:00:10.053721",
     "exception": false,
     "start_time": "2022-10-17T12:00:10.024628",
     "status": "completed"
    },
    "tags": []
   },
   "source": [
    "Purchase distribution of both 'Married' and 'UnMarried' customers are quitely same."
   ]
  },
  {
   "cell_type": "code",
   "execution_count": 58,
   "id": "b3e4b8e7",
   "metadata": {
    "execution": {
     "iopub.execute_input": "2022-10-17T12:00:10.115240Z",
     "iopub.status.busy": "2022-10-17T12:00:10.114536Z",
     "iopub.status.idle": "2022-10-17T12:00:10.819600Z",
     "shell.execute_reply": "2022-10-17T12:00:10.818383Z"
    },
    "papermill": {
     "duration": 0.739267,
     "end_time": "2022-10-17T12:00:10.822437",
     "exception": false,
     "start_time": "2022-10-17T12:00:10.083170",
     "status": "completed"
    },
    "tags": []
   },
   "outputs": [
    {
     "data": {
      "image/png": "[encoded data removed]",
      "text/plain": [
       "<Figure size 700x350 with 2 Axes>"
      ]
     },
     "metadata": {
      "needs_background": "light"
     },
     "output_type": "display_data"
    }
   ],
   "source": [
    "plt.figure(figsize=(10,5),dpi=70)\n",
    "plt.subplot(1,2,1)\n",
    "f=data[data['Gender']=='F'].value_counts('Purchase')\n",
    "plt.title('Female')\n",
    "sns.kdeplot('Purchase',data=f)\n",
    "\n",
    "plt.subplot(1,2,2)\n",
    "ma=data[data['Gender']=='M'].value_counts('Purchase')\n",
    "plt.title('Male')\n",
    "sns.kdeplot('Purchase',data=ma)\n",
    "\n",
    "plt.tight_layout()\n",
    "plt.show()"
   ]
  },
  {
   "cell_type": "markdown",
   "id": "76018825",
   "metadata": {
    "papermill": {
     "duration": 0.029381,
     "end_time": "2022-10-17T12:00:10.882301",
     "exception": false,
     "start_time": "2022-10-17T12:00:10.852920",
     "status": "completed"
    },
    "tags": []
   },
   "source": [
    "Purchase distribution of both 'Male' and 'Female' customers are quitely same."
   ]
  },
  {
   "cell_type": "markdown",
   "id": "6f7d2231",
   "metadata": {
    "papermill": {
     "duration": 0.029127,
     "end_time": "2022-10-17T12:00:10.941281",
     "exception": false,
     "start_time": "2022-10-17T12:00:10.912154",
     "status": "completed"
    },
    "tags": []
   },
   "source": [
    "# ***Conclusion:-***"
   ]
  },
  {
   "cell_type": "markdown",
   "id": "a3ff5609",
   "metadata": {
    "papermill": {
     "duration": 0.029506,
     "end_time": "2022-10-17T12:00:11.000193",
     "exception": false,
     "start_time": "2022-10-17T12:00:10.970687",
     "status": "completed"
    },
    "tags": []
   },
   "source": [
    "In the Given dataset. I explored and learned many things like,\n",
    "How to fill NaN values.\n",
    "Where we can use the concept of code reusability.\n",
    "In the process of cleaning the dataset I used Pandas and Numpy libraries. Using pandas and numpy I removed unwanted(useless) data and created new data frames and got useful data for my research. After cleaning my data I used Seaborn and Matplotlib libraries to read my data by visualizing it. I created questions regarding my research I tried to solve it by visualizing and applying conditions.\n",
    "Now, they want to build a model to predict the purchase amount of customer against various products which will help them to create personalized offer for customers against different products. By seeing this EDA we can fulfill this requirements.\n",
    "\n"
   ]
  },
  {
   "cell_type": "markdown",
   "id": "299fbd33",
   "metadata": {
    "papermill": {
     "duration": 0.029233,
     "end_time": "2022-10-17T12:00:11.059244",
     "exception": false,
     "start_time": "2022-10-17T12:00:11.030011",
     "status": "completed"
    },
    "tags": []
   },
   "source": [
    "# ***Thankyou...***"
   ]
  }
 ],
 "metadata": {
  "kernelspec": {
   "display_name": "Python 3",
   "language": "python",
   "name": "python3"
  },
  "language_info": {
   "codemirror_mode": {
    "name": "ipython",
    "version": 3
   },
   "file_extension": ".py",
   "mimetype": "text/x-python",
   "name": "python",
   "nbconvert_exporter": "python",
   "pygments_lexer": "ipython3",
   "version": "3.7.12"
  },
  "papermill": {
   "default_parameters": {},
   "duration": 101.319073,
   "end_time": "2022-10-17T12:00:11.912104",
   "environment_variables": {},
   "exception": null,
   "input_path": "__notebook__.ipynb",
   "output_path": "__notebook__.ipynb",
   "parameters": {},
   "start_time": "2022-10-17T11:58:30.593031",
   "version": "2.3.4"
  }
 },
 "nbformat": 4,
 "nbformat_minor": 5
}
